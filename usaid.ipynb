{
  "nbformat": 4,
  "nbformat_minor": 0,
  "metadata": {
    "colab": {
      "name": "usaid.ipynb",
      "provenance": [],
      "collapsed_sections": []
    },
    "kernelspec": {
      "name": "python3",
      "display_name": "Python 3"
    },
    "accelerator": "GPU"
  },
  "cells": [
    {
      "cell_type": "code",
      "metadata": {
        "id": "nFYCkDxP0eEX",
        "colab_type": "code",
        "colab": {
          "base_uri": "https://localhost:8080/",
          "height": 71
        },
        "outputId": "38f47117-d2fd-4592-a414-e5a736fef727"
      },
      "source": [
        "import numpy as np\n",
        "import pandas as pd\n",
        "pd.set_option('display.max_rows', 500)\n",
        "pd.set_option('display.max_columns', 500)\n",
        "import seaborn as sns\n",
        "import matplotlib.pyplot as plt\n",
        "import time"
      ],
      "execution_count": null,
      "outputs": [
        {
          "output_type": "stream",
          "text": [
            "/usr/local/lib/python3.6/dist-packages/statsmodels/tools/_testing.py:19: FutureWarning: pandas.util.testing is deprecated. Use the functions in the public API at pandas.testing instead.\n",
            "  import pandas.util.testing as tm\n"
          ],
          "name": "stderr"
        }
      ]
    },
    {
      "cell_type": "code",
      "metadata": {
        "id": "cvQpwneh2G31",
        "colab_type": "code",
        "colab": {}
      },
      "source": [
        "train=pd.read_csv('/content/drive/My Drive/usaid/Train.csv')\n",
        "sd=pd.read_csv('/content/drive/My Drive/usaid/service_delivery_site_data.csv')\n",
        "submission=pd.read_csv('/content/drive/My Drive/usaid/SampleSubmission.csv')\n",
        "monthly_cases = pd.read_csv('/content/drive/My Drive/usaid/monthly_cases.csv')\n",
        "products = pd.read_csv('/content/drive/My Drive/usaid/product.csv')"
      ],
      "execution_count": 209,
      "outputs": []
    },
    {
      "cell_type": "code",
      "metadata": {
        "id": "8IBfUQ_XsFlq",
        "colab_type": "code",
        "colab": {
          "base_uri": "https://localhost:8080/",
          "height": 34
        },
        "outputId": "4c8810c1-2e80-4057-9d26-6a42d3122896"
      },
      "source": [
        "print(train.shape,submission.shape,sd.shape, monthly_cases.shape,products.shape)"
      ],
      "execution_count": null,
      "outputs": [
        {
          "output_type": "stream",
          "text": [
            "(35753, 14) (3089, 2) (156, 6) (678, 28) (11, 3)\n"
          ],
          "name": "stdout"
        }
      ]
    },
    {
      "cell_type": "code",
      "metadata": {
        "id": "jHa4WmwGOx8d",
        "colab_type": "code",
        "colab": {
          "base_uri": "https://localhost:8080/",
          "height": 204
        },
        "outputId": "c76ca521-02e0-4d8e-c1fc-6f65bf12b2b4"
      },
      "source": [
        "products.head()"
      ],
      "execution_count": null,
      "outputs": [
        {
          "output_type": "execute_result",
          "data": {
            "text/html": [
              "<div>\n",
              "<style scoped>\n",
              "    .dataframe tbody tr th:only-of-type {\n",
              "        vertical-align: middle;\n",
              "    }\n",
              "\n",
              "    .dataframe tbody tr th {\n",
              "        vertical-align: top;\n",
              "    }\n",
              "\n",
              "    .dataframe thead th {\n",
              "        text-align: right;\n",
              "    }\n",
              "</style>\n",
              "<table border=\"1\" class=\"dataframe\">\n",
              "  <thead>\n",
              "    <tr style=\"text-align: right;\">\n",
              "      <th></th>\n",
              "      <th>product_code</th>\n",
              "      <th>product_type</th>\n",
              "      <th>product_name</th>\n",
              "    </tr>\n",
              "  </thead>\n",
              "  <tbody>\n",
              "    <tr>\n",
              "      <th>0</th>\n",
              "      <td>AS17005</td>\n",
              "      <td>Female Condom</td>\n",
              "      <td>PRESERVATIF FEMININ UNITE</td>\n",
              "    </tr>\n",
              "    <tr>\n",
              "      <th>1</th>\n",
              "      <td>AS46000</td>\n",
              "      <td>Male Condom</td>\n",
              "      <td>PRESERVATIF MASCULIN BTE/144 BOITE</td>\n",
              "    </tr>\n",
              "    <tr>\n",
              "      <th>2</th>\n",
              "      <td>AS27139</td>\n",
              "      <td>Emergency Contraceptive (Pill)</td>\n",
              "      <td>LEVONORGESTREL 1.5 MG CP BOITE</td>\n",
              "    </tr>\n",
              "    <tr>\n",
              "      <th>3</th>\n",
              "      <td>AS27137</td>\n",
              "      <td>Contraceptive Implant</td>\n",
              "      <td>JADELLE (IMPLANT + TROCARD) 150 µG BTE/10 BOITE</td>\n",
              "    </tr>\n",
              "    <tr>\n",
              "      <th>4</th>\n",
              "      <td>AS27138</td>\n",
              "      <td>Contraceptive Implant</td>\n",
              "      <td>IMPLANON IMPLANT 68 MG BTE/1 BOITE</td>\n",
              "    </tr>\n",
              "  </tbody>\n",
              "</table>\n",
              "</div>"
            ],
            "text/plain": [
              "  product_code                    product_type  \\\n",
              "0      AS17005                   Female Condom   \n",
              "1      AS46000                     Male Condom   \n",
              "2      AS27139  Emergency Contraceptive (Pill)   \n",
              "3      AS27137           Contraceptive Implant   \n",
              "4      AS27138           Contraceptive Implant   \n",
              "\n",
              "                                       product_name  \n",
              "0                        PRESERVATIF FEMININ UNITE   \n",
              "1               PRESERVATIF MASCULIN BTE/144 BOITE   \n",
              "2                   LEVONORGESTREL 1.5 MG CP BOITE   \n",
              "3  JADELLE (IMPLANT + TROCARD) 150 µG BTE/10 BOITE   \n",
              "4               IMPLANON IMPLANT 68 MG BTE/1 BOITE   "
            ]
          },
          "metadata": {
            "tags": []
          },
          "execution_count": 4
        }
      ]
    },
    {
      "cell_type": "code",
      "metadata": {
        "id": "XBu5x3y3EplN",
        "colab_type": "code",
        "colab": {
          "base_uri": "https://localhost:8080/",
          "height": 213
        },
        "outputId": "715e2255-3c64-449f-8125-888f6ad72224"
      },
      "source": [
        "train.head(3)"
      ],
      "execution_count": null,
      "outputs": [
        {
          "output_type": "execute_result",
          "data": {
            "text/html": [
              "<div>\n",
              "<style scoped>\n",
              "    .dataframe tbody tr th:only-of-type {\n",
              "        vertical-align: middle;\n",
              "    }\n",
              "\n",
              "    .dataframe tbody tr th {\n",
              "        vertical-align: top;\n",
              "    }\n",
              "\n",
              "    .dataframe thead th {\n",
              "        text-align: right;\n",
              "    }\n",
              "</style>\n",
              "<table border=\"1\" class=\"dataframe\">\n",
              "  <thead>\n",
              "    <tr style=\"text-align: right;\">\n",
              "      <th></th>\n",
              "      <th>year</th>\n",
              "      <th>month</th>\n",
              "      <th>region</th>\n",
              "      <th>district</th>\n",
              "      <th>site_code</th>\n",
              "      <th>product_code</th>\n",
              "      <th>stock_initial</th>\n",
              "      <th>stock_received</th>\n",
              "      <th>stock_distributed</th>\n",
              "      <th>stock_adjustment</th>\n",
              "      <th>stock_end</th>\n",
              "      <th>average_monthly_consumption</th>\n",
              "      <th>stock_stockout_days</th>\n",
              "      <th>stock_ordered</th>\n",
              "    </tr>\n",
              "  </thead>\n",
              "  <tbody>\n",
              "    <tr>\n",
              "      <th>0</th>\n",
              "      <td>2019</td>\n",
              "      <td>1</td>\n",
              "      <td>INDENIE-DJUABLIN</td>\n",
              "      <td>ABENGOUROU</td>\n",
              "      <td>C4001</td>\n",
              "      <td>AS27134</td>\n",
              "      <td>75</td>\n",
              "      <td>0</td>\n",
              "      <td>21</td>\n",
              "      <td>-54</td>\n",
              "      <td>0</td>\n",
              "      <td>18</td>\n",
              "      <td>0</td>\n",
              "      <td>100.0</td>\n",
              "    </tr>\n",
              "    <tr>\n",
              "      <th>1</th>\n",
              "      <td>2019</td>\n",
              "      <td>1</td>\n",
              "      <td>INDENIE-DJUABLIN</td>\n",
              "      <td>ABENGOUROU</td>\n",
              "      <td>C4001</td>\n",
              "      <td>AS27132</td>\n",
              "      <td>3</td>\n",
              "      <td>0</td>\n",
              "      <td>3</td>\n",
              "      <td>0</td>\n",
              "      <td>0</td>\n",
              "      <td>2</td>\n",
              "      <td>0</td>\n",
              "      <td>10.0</td>\n",
              "    </tr>\n",
              "    <tr>\n",
              "      <th>2</th>\n",
              "      <td>2019</td>\n",
              "      <td>1</td>\n",
              "      <td>INDENIE-DJUABLIN</td>\n",
              "      <td>ABENGOUROU</td>\n",
              "      <td>C4001</td>\n",
              "      <td>AS27000</td>\n",
              "      <td>0</td>\n",
              "      <td>75</td>\n",
              "      <td>22</td>\n",
              "      <td>0</td>\n",
              "      <td>53</td>\n",
              "      <td>9</td>\n",
              "      <td>0</td>\n",
              "      <td>0.0</td>\n",
              "    </tr>\n",
              "  </tbody>\n",
              "</table>\n",
              "</div>"
            ],
            "text/plain": [
              "   year  month            region    district site_code product_code  \\\n",
              "0  2019      1  INDENIE-DJUABLIN  ABENGOUROU     C4001      AS27134   \n",
              "1  2019      1  INDENIE-DJUABLIN  ABENGOUROU     C4001      AS27132   \n",
              "2  2019      1  INDENIE-DJUABLIN  ABENGOUROU     C4001      AS27000   \n",
              "\n",
              "   stock_initial  stock_received  stock_distributed  stock_adjustment  \\\n",
              "0             75               0                 21               -54   \n",
              "1              3               0                  3                 0   \n",
              "2              0              75                 22                 0   \n",
              "\n",
              "   stock_end  average_monthly_consumption  stock_stockout_days  stock_ordered  \n",
              "0          0                           18                    0          100.0  \n",
              "1          0                            2                    0           10.0  \n",
              "2         53                            9                    0            0.0  "
            ]
          },
          "metadata": {
            "tags": []
          },
          "execution_count": 5
        }
      ]
    },
    {
      "cell_type": "code",
      "metadata": {
        "id": "cXIXDqKXTk5E",
        "colab_type": "code",
        "colab": {
          "base_uri": "https://localhost:8080/",
          "height": 162
        },
        "outputId": "49d3e961-5654-42e1-99b7-9a184625bbf2"
      },
      "source": [
        "monthly_cases.head(3)"
      ],
      "execution_count": null,
      "outputs": [
        {
          "output_type": "execute_result",
          "data": {
            "text/html": [
              "<div>\n",
              "<style scoped>\n",
              "    .dataframe tbody tr th:only-of-type {\n",
              "        vertical-align: middle;\n",
              "    }\n",
              "\n",
              "    .dataframe tbody tr th {\n",
              "        vertical-align: top;\n",
              "    }\n",
              "\n",
              "    .dataframe thead th {\n",
              "        text-align: right;\n",
              "    }\n",
              "</style>\n",
              "<table border=\"1\" class=\"dataframe\">\n",
              "  <thead>\n",
              "    <tr style=\"text-align: right;\">\n",
              "      <th></th>\n",
              "      <th>district</th>\n",
              "      <th>month</th>\n",
              "      <th>year</th>\n",
              "      <th>implant_women_old</th>\n",
              "      <th>implant_women_new</th>\n",
              "      <th>injection2_women_old</th>\n",
              "      <th>injection2_women_new</th>\n",
              "      <th>injection3_women_old</th>\n",
              "      <th>injection3_women_new</th>\n",
              "      <th>pill_women_old</th>\n",
              "      <th>pill_women_new</th>\n",
              "      <th>iud_women_old</th>\n",
              "      <th>iud_women_new</th>\n",
              "      <th>iud_number_dispensed</th>\n",
              "      <th>implant_number_dispensed</th>\n",
              "      <th>injection2_number_dispensed</th>\n",
              "      <th>injection3_number_dispensed</th>\n",
              "      <th>pill_number_dispensed</th>\n",
              "      <th>iud_number_received</th>\n",
              "      <th>implant_number_received</th>\n",
              "      <th>injection2_number_received</th>\n",
              "      <th>injection3_number_received</th>\n",
              "      <th>pill_number_received</th>\n",
              "      <th>iud_stock_end</th>\n",
              "      <th>implant_stock_end</th>\n",
              "      <th>injection2_stock_end</th>\n",
              "      <th>injection3_stock_end</th>\n",
              "      <th>pill_stock_end</th>\n",
              "    </tr>\n",
              "  </thead>\n",
              "  <tbody>\n",
              "    <tr>\n",
              "      <th>0</th>\n",
              "      <td>ABENGOUROU</td>\n",
              "      <td>1</td>\n",
              "      <td>2019</td>\n",
              "      <td>478.0</td>\n",
              "      <td>91.0</td>\n",
              "      <td>103.0</td>\n",
              "      <td>17.0</td>\n",
              "      <td>1278</td>\n",
              "      <td>296</td>\n",
              "      <td>195.0</td>\n",
              "      <td>34.0</td>\n",
              "      <td>NaN</td>\n",
              "      <td>NaN</td>\n",
              "      <td>NaN</td>\n",
              "      <td>75.0</td>\n",
              "      <td>44.0</td>\n",
              "      <td>1082.0</td>\n",
              "      <td>2542.0</td>\n",
              "      <td>NaN</td>\n",
              "      <td>319.0</td>\n",
              "      <td>33.0</td>\n",
              "      <td>1244.0</td>\n",
              "      <td>2846.0</td>\n",
              "      <td>NaN</td>\n",
              "      <td>422.0</td>\n",
              "      <td>NaN</td>\n",
              "      <td>1501.0</td>\n",
              "      <td>3466.0</td>\n",
              "    </tr>\n",
              "    <tr>\n",
              "      <th>1</th>\n",
              "      <td>ABENGOUROU</td>\n",
              "      <td>2</td>\n",
              "      <td>2019</td>\n",
              "      <td>340.0</td>\n",
              "      <td>81.0</td>\n",
              "      <td>126.0</td>\n",
              "      <td>10.0</td>\n",
              "      <td>1237</td>\n",
              "      <td>253</td>\n",
              "      <td>187.0</td>\n",
              "      <td>19.0</td>\n",
              "      <td>9.0</td>\n",
              "      <td>1.0</td>\n",
              "      <td>1.0</td>\n",
              "      <td>66.0</td>\n",
              "      <td>38.0</td>\n",
              "      <td>813.0</td>\n",
              "      <td>557.0</td>\n",
              "      <td>20.0</td>\n",
              "      <td>255.0</td>\n",
              "      <td>17.0</td>\n",
              "      <td>1174.0</td>\n",
              "      <td>2608.0</td>\n",
              "      <td>NaN</td>\n",
              "      <td>394.0</td>\n",
              "      <td>NaN</td>\n",
              "      <td>1535.0</td>\n",
              "      <td>3327.0</td>\n",
              "    </tr>\n",
              "    <tr>\n",
              "      <th>2</th>\n",
              "      <td>ABENGOUROU</td>\n",
              "      <td>3</td>\n",
              "      <td>2019</td>\n",
              "      <td>367.0</td>\n",
              "      <td>59.0</td>\n",
              "      <td>14.0</td>\n",
              "      <td>7.0</td>\n",
              "      <td>1300</td>\n",
              "      <td>224</td>\n",
              "      <td>147.0</td>\n",
              "      <td>26.0</td>\n",
              "      <td>NaN</td>\n",
              "      <td>5.0</td>\n",
              "      <td>5.0</td>\n",
              "      <td>47.0</td>\n",
              "      <td>42.0</td>\n",
              "      <td>819.0</td>\n",
              "      <td>665.0</td>\n",
              "      <td>50.0</td>\n",
              "      <td>214.0</td>\n",
              "      <td>50.0</td>\n",
              "      <td>1050.0</td>\n",
              "      <td>2148.0</td>\n",
              "      <td>NaN</td>\n",
              "      <td>340.0</td>\n",
              "      <td>NaN</td>\n",
              "      <td>1187.0</td>\n",
              "      <td>3636.0</td>\n",
              "    </tr>\n",
              "  </tbody>\n",
              "</table>\n",
              "</div>"
            ],
            "text/plain": [
              "     district  month  year  implant_women_old  implant_women_new  \\\n",
              "0  ABENGOUROU      1  2019              478.0               91.0   \n",
              "1  ABENGOUROU      2  2019              340.0               81.0   \n",
              "2  ABENGOUROU      3  2019              367.0               59.0   \n",
              "\n",
              "   injection2_women_old  injection2_women_new  injection3_women_old  \\\n",
              "0                 103.0                  17.0                  1278   \n",
              "1                 126.0                  10.0                  1237   \n",
              "2                  14.0                   7.0                  1300   \n",
              "\n",
              "   injection3_women_new  pill_women_old  pill_women_new  iud_women_old  \\\n",
              "0                   296           195.0            34.0            NaN   \n",
              "1                   253           187.0            19.0            9.0   \n",
              "2                   224           147.0            26.0            NaN   \n",
              "\n",
              "   iud_women_new  iud_number_dispensed  implant_number_dispensed  \\\n",
              "0            NaN                   NaN                      75.0   \n",
              "1            1.0                   1.0                      66.0   \n",
              "2            5.0                   5.0                      47.0   \n",
              "\n",
              "   injection2_number_dispensed  injection3_number_dispensed  \\\n",
              "0                         44.0                       1082.0   \n",
              "1                         38.0                        813.0   \n",
              "2                         42.0                        819.0   \n",
              "\n",
              "   pill_number_dispensed  iud_number_received  implant_number_received  \\\n",
              "0                 2542.0                  NaN                    319.0   \n",
              "1                  557.0                 20.0                    255.0   \n",
              "2                  665.0                 50.0                    214.0   \n",
              "\n",
              "   injection2_number_received  injection3_number_received  \\\n",
              "0                        33.0                      1244.0   \n",
              "1                        17.0                      1174.0   \n",
              "2                        50.0                      1050.0   \n",
              "\n",
              "   pill_number_received  iud_stock_end  implant_stock_end  \\\n",
              "0                2846.0            NaN              422.0   \n",
              "1                2608.0            NaN              394.0   \n",
              "2                2148.0            NaN              340.0   \n",
              "\n",
              "   injection2_stock_end  injection3_stock_end  pill_stock_end  \n",
              "0                   NaN                1501.0          3466.0  \n",
              "1                   NaN                1535.0          3327.0  \n",
              "2                   NaN                1187.0          3636.0  "
            ]
          },
          "metadata": {
            "tags": []
          },
          "execution_count": 6
        }
      ]
    },
    {
      "cell_type": "code",
      "metadata": {
        "id": "7q-ho7ZNDMl9",
        "colab_type": "code",
        "colab": {
          "base_uri": "https://localhost:8080/",
          "height": 142
        },
        "outputId": "ea7b63fd-e905-4453-c483-f2c2ca859f83"
      },
      "source": [
        "sd.head(3)"
      ],
      "execution_count": null,
      "outputs": [
        {
          "output_type": "execute_result",
          "data": {
            "text/html": [
              "<div>\n",
              "<style scoped>\n",
              "    .dataframe tbody tr th:only-of-type {\n",
              "        vertical-align: middle;\n",
              "    }\n",
              "\n",
              "    .dataframe tbody tr th {\n",
              "        vertical-align: top;\n",
              "    }\n",
              "\n",
              "    .dataframe thead th {\n",
              "        text-align: right;\n",
              "    }\n",
              "</style>\n",
              "<table border=\"1\" class=\"dataframe\">\n",
              "  <thead>\n",
              "    <tr style=\"text-align: right;\">\n",
              "      <th></th>\n",
              "      <th>site_code</th>\n",
              "      <th>site_type</th>\n",
              "      <th>site_region</th>\n",
              "      <th>site_district</th>\n",
              "      <th>site_latitude</th>\n",
              "      <th>site_longitude</th>\n",
              "    </tr>\n",
              "  </thead>\n",
              "  <tbody>\n",
              "    <tr>\n",
              "      <th>0</th>\n",
              "      <td>C1399</td>\n",
              "      <td>Health Center</td>\n",
              "      <td>ABIDJAN 2</td>\n",
              "      <td>COCODY-BINGERVILLE</td>\n",
              "      <td>5.352721</td>\n",
              "      <td>-3.940210</td>\n",
              "    </tr>\n",
              "    <tr>\n",
              "      <th>1</th>\n",
              "      <td>C4001</td>\n",
              "      <td>Hospital</td>\n",
              "      <td>INDENIE-DJUABLIN</td>\n",
              "      <td>ABENGOUROU</td>\n",
              "      <td>6.730937</td>\n",
              "      <td>-3.483863</td>\n",
              "    </tr>\n",
              "    <tr>\n",
              "      <th>2</th>\n",
              "      <td>C1004</td>\n",
              "      <td>Hospital</td>\n",
              "      <td>AGNEBY-TIASSA-ME</td>\n",
              "      <td>AGBOVILLE</td>\n",
              "      <td>5.928340</td>\n",
              "      <td>-4.211450</td>\n",
              "    </tr>\n",
              "  </tbody>\n",
              "</table>\n",
              "</div>"
            ],
            "text/plain": [
              "  site_code      site_type       site_region       site_district  \\\n",
              "0     C1399  Health Center         ABIDJAN 2  COCODY-BINGERVILLE   \n",
              "1     C4001       Hospital  INDENIE-DJUABLIN          ABENGOUROU   \n",
              "2     C1004       Hospital  AGNEBY-TIASSA-ME           AGBOVILLE   \n",
              "\n",
              "   site_latitude  site_longitude  \n",
              "0       5.352721       -3.940210  \n",
              "1       6.730937       -3.483863  \n",
              "2       5.928340       -4.211450  "
            ]
          },
          "metadata": {
            "tags": []
          },
          "execution_count": 225
        }
      ]
    },
    {
      "cell_type": "code",
      "metadata": {
        "id": "ZpevJNbB2HAJ",
        "colab_type": "code",
        "colab": {}
      },
      "source": [
        "train.drop(columns={'stock_initial', 'stock_received','stock_adjustment', \n",
        "                    'stock_end','average_monthly_consumption',\n",
        "                    'stock_stockout_days', 'stock_ordered'},inplace=True)"
      ],
      "execution_count": null,
      "outputs": []
    },
    {
      "cell_type": "code",
      "metadata": {
        "id": "7S36QSU92HH2",
        "colab_type": "code",
        "colab": {}
      },
      "source": [
        "test=pd.DataFrame(submission.ID.str.split('X',3).tolist(), columns = ['year','month','site_code','product_code'])\n",
        "\n",
        "\n",
        "for col in test.columns:\n",
        "    test[col] = test[col].str.strip()\n",
        "column=['year','month'] \n",
        "for col in column:\n",
        "    test[col]=test[col].astype(int)\n",
        "test=pd.merge(test,sd,on='site_code',how='left')\n",
        "test.rename(columns={'site_region':'region','site_district':'district'},inplace=True)\n",
        "test=test[['year', 'month', 'region','district','site_code', 'product_code']]"
      ],
      "execution_count": null,
      "outputs": []
    },
    {
      "cell_type": "code",
      "metadata": {
        "id": "Xu9BVUzJH0s7",
        "colab_type": "code",
        "colab": {
          "base_uri": "https://localhost:8080/",
          "height": 142
        },
        "outputId": "51ecfa9c-bbb3-4e4d-b608-45eead4ee955"
      },
      "source": [
        "test.head(3)"
      ],
      "execution_count": null,
      "outputs": [
        {
          "output_type": "execute_result",
          "data": {
            "text/html": [
              "<div>\n",
              "<style scoped>\n",
              "    .dataframe tbody tr th:only-of-type {\n",
              "        vertical-align: middle;\n",
              "    }\n",
              "\n",
              "    .dataframe tbody tr th {\n",
              "        vertical-align: top;\n",
              "    }\n",
              "\n",
              "    .dataframe thead th {\n",
              "        text-align: right;\n",
              "    }\n",
              "</style>\n",
              "<table border=\"1\" class=\"dataframe\">\n",
              "  <thead>\n",
              "    <tr style=\"text-align: right;\">\n",
              "      <th></th>\n",
              "      <th>year</th>\n",
              "      <th>month</th>\n",
              "      <th>region</th>\n",
              "      <th>district</th>\n",
              "      <th>site_code</th>\n",
              "      <th>product_code</th>\n",
              "    </tr>\n",
              "  </thead>\n",
              "  <tbody>\n",
              "    <tr>\n",
              "      <th>0</th>\n",
              "      <td>2019</td>\n",
              "      <td>7</td>\n",
              "      <td>INDENIE-DJUABLIN</td>\n",
              "      <td>ABENGOUROU</td>\n",
              "      <td>C4001</td>\n",
              "      <td>AS21126</td>\n",
              "    </tr>\n",
              "    <tr>\n",
              "      <th>1</th>\n",
              "      <td>2019</td>\n",
              "      <td>7</td>\n",
              "      <td>INDENIE-DJUABLIN</td>\n",
              "      <td>ABENGOUROU</td>\n",
              "      <td>C4001</td>\n",
              "      <td>AS27134</td>\n",
              "    </tr>\n",
              "    <tr>\n",
              "      <th>2</th>\n",
              "      <td>2019</td>\n",
              "      <td>7</td>\n",
              "      <td>INDENIE-DJUABLIN</td>\n",
              "      <td>ABENGOUROU</td>\n",
              "      <td>C4001</td>\n",
              "      <td>AS27132</td>\n",
              "    </tr>\n",
              "  </tbody>\n",
              "</table>\n",
              "</div>"
            ],
            "text/plain": [
              "   year  month            region    district site_code product_code\n",
              "0  2019      7  INDENIE-DJUABLIN  ABENGOUROU     C4001      AS21126\n",
              "1  2019      7  INDENIE-DJUABLIN  ABENGOUROU     C4001      AS27134\n",
              "2  2019      7  INDENIE-DJUABLIN  ABENGOUROU     C4001      AS27132"
            ]
          },
          "metadata": {
            "tags": []
          },
          "execution_count": 121
        }
      ]
    },
    {
      "cell_type": "code",
      "metadata": {
        "id": "Gih4W56j2HFn",
        "colab_type": "code",
        "colab": {
          "base_uri": "https://localhost:8080/",
          "height": 173
        },
        "outputId": "5d99b906-bce0-4fc8-9f59-102951c925ba"
      },
      "source": [
        "train.head(2).append(test.head(2))"
      ],
      "execution_count": null,
      "outputs": [
        {
          "output_type": "execute_result",
          "data": {
            "text/html": [
              "<div>\n",
              "<style scoped>\n",
              "    .dataframe tbody tr th:only-of-type {\n",
              "        vertical-align: middle;\n",
              "    }\n",
              "\n",
              "    .dataframe tbody tr th {\n",
              "        vertical-align: top;\n",
              "    }\n",
              "\n",
              "    .dataframe thead th {\n",
              "        text-align: right;\n",
              "    }\n",
              "</style>\n",
              "<table border=\"1\" class=\"dataframe\">\n",
              "  <thead>\n",
              "    <tr style=\"text-align: right;\">\n",
              "      <th></th>\n",
              "      <th>year</th>\n",
              "      <th>month</th>\n",
              "      <th>region</th>\n",
              "      <th>district</th>\n",
              "      <th>site_code</th>\n",
              "      <th>product_code</th>\n",
              "      <th>stock_distributed</th>\n",
              "      <th>average_monthly_consumption</th>\n",
              "    </tr>\n",
              "  </thead>\n",
              "  <tbody>\n",
              "    <tr>\n",
              "      <th>0</th>\n",
              "      <td>2019</td>\n",
              "      <td>1</td>\n",
              "      <td>INDENIE-DJUABLIN</td>\n",
              "      <td>ABENGOUROU</td>\n",
              "      <td>C4001</td>\n",
              "      <td>AS27134</td>\n",
              "      <td>21.0</td>\n",
              "      <td>18.0</td>\n",
              "    </tr>\n",
              "    <tr>\n",
              "      <th>1</th>\n",
              "      <td>2019</td>\n",
              "      <td>1</td>\n",
              "      <td>INDENIE-DJUABLIN</td>\n",
              "      <td>ABENGOUROU</td>\n",
              "      <td>C4001</td>\n",
              "      <td>AS27132</td>\n",
              "      <td>3.0</td>\n",
              "      <td>2.0</td>\n",
              "    </tr>\n",
              "    <tr>\n",
              "      <th>0</th>\n",
              "      <td>2019</td>\n",
              "      <td>7</td>\n",
              "      <td>INDENIE-DJUABLIN</td>\n",
              "      <td>ABENGOUROU</td>\n",
              "      <td>C4001</td>\n",
              "      <td>AS21126</td>\n",
              "      <td>NaN</td>\n",
              "      <td>NaN</td>\n",
              "    </tr>\n",
              "    <tr>\n",
              "      <th>1</th>\n",
              "      <td>2019</td>\n",
              "      <td>7</td>\n",
              "      <td>INDENIE-DJUABLIN</td>\n",
              "      <td>ABENGOUROU</td>\n",
              "      <td>C4001</td>\n",
              "      <td>AS27134</td>\n",
              "      <td>NaN</td>\n",
              "      <td>NaN</td>\n",
              "    </tr>\n",
              "  </tbody>\n",
              "</table>\n",
              "</div>"
            ],
            "text/plain": [
              "   year  month            region    district site_code product_code  \\\n",
              "0  2019      1  INDENIE-DJUABLIN  ABENGOUROU     C4001      AS27134   \n",
              "1  2019      1  INDENIE-DJUABLIN  ABENGOUROU     C4001      AS27132   \n",
              "0  2019      7  INDENIE-DJUABLIN  ABENGOUROU     C4001      AS21126   \n",
              "1  2019      7  INDENIE-DJUABLIN  ABENGOUROU     C4001      AS27134   \n",
              "\n",
              "   stock_distributed  average_monthly_consumption  \n",
              "0               21.0                         18.0  \n",
              "1                3.0                          2.0  \n",
              "0                NaN                          NaN  \n",
              "1                NaN                          NaN  "
            ]
          },
          "metadata": {
            "tags": []
          },
          "execution_count": 28
        }
      ]
    },
    {
      "cell_type": "code",
      "metadata": {
        "id": "LnfTutCm2HEd",
        "colab_type": "code",
        "colab": {}
      },
      "source": [
        "train['train_or_test']='train'\n",
        "test['train_or_test']='test'\n",
        "df=pd.concat([train,test])"
      ],
      "execution_count": null,
      "outputs": []
    },
    {
      "cell_type": "code",
      "metadata": {
        "id": "RYn2ieIror4F",
        "colab_type": "code",
        "colab": {
          "base_uri": "https://localhost:8080/",
          "height": 204
        },
        "outputId": "2beb95ca-86bd-4f51-ab23-43e0aad77b69"
      },
      "source": [
        "df.head()"
      ],
      "execution_count": null,
      "outputs": [
        {
          "output_type": "execute_result",
          "data": {
            "text/html": [
              "<div>\n",
              "<style scoped>\n",
              "    .dataframe tbody tr th:only-of-type {\n",
              "        vertical-align: middle;\n",
              "    }\n",
              "\n",
              "    .dataframe tbody tr th {\n",
              "        vertical-align: top;\n",
              "    }\n",
              "\n",
              "    .dataframe thead th {\n",
              "        text-align: right;\n",
              "    }\n",
              "</style>\n",
              "<table border=\"1\" class=\"dataframe\">\n",
              "  <thead>\n",
              "    <tr style=\"text-align: right;\">\n",
              "      <th></th>\n",
              "      <th>year</th>\n",
              "      <th>month</th>\n",
              "      <th>region</th>\n",
              "      <th>district</th>\n",
              "      <th>site_code</th>\n",
              "      <th>product_code</th>\n",
              "      <th>stock_distributed</th>\n",
              "      <th>average_monthly_consumption</th>\n",
              "      <th>train_or_test</th>\n",
              "    </tr>\n",
              "  </thead>\n",
              "  <tbody>\n",
              "    <tr>\n",
              "      <th>0</th>\n",
              "      <td>2019</td>\n",
              "      <td>1</td>\n",
              "      <td>INDENIE-DJUABLIN</td>\n",
              "      <td>ABENGOUROU</td>\n",
              "      <td>C4001</td>\n",
              "      <td>AS27134</td>\n",
              "      <td>21.0</td>\n",
              "      <td>18.0</td>\n",
              "      <td>train</td>\n",
              "    </tr>\n",
              "    <tr>\n",
              "      <th>1</th>\n",
              "      <td>2019</td>\n",
              "      <td>1</td>\n",
              "      <td>INDENIE-DJUABLIN</td>\n",
              "      <td>ABENGOUROU</td>\n",
              "      <td>C4001</td>\n",
              "      <td>AS27132</td>\n",
              "      <td>3.0</td>\n",
              "      <td>2.0</td>\n",
              "      <td>train</td>\n",
              "    </tr>\n",
              "    <tr>\n",
              "      <th>2</th>\n",
              "      <td>2019</td>\n",
              "      <td>1</td>\n",
              "      <td>INDENIE-DJUABLIN</td>\n",
              "      <td>ABENGOUROU</td>\n",
              "      <td>C4001</td>\n",
              "      <td>AS27000</td>\n",
              "      <td>22.0</td>\n",
              "      <td>9.0</td>\n",
              "      <td>train</td>\n",
              "    </tr>\n",
              "    <tr>\n",
              "      <th>3</th>\n",
              "      <td>2019</td>\n",
              "      <td>1</td>\n",
              "      <td>INDENIE-DJUABLIN</td>\n",
              "      <td>ABENGOUROU</td>\n",
              "      <td>C4001</td>\n",
              "      <td>AS27137</td>\n",
              "      <td>0.0</td>\n",
              "      <td>0.0</td>\n",
              "      <td>train</td>\n",
              "    </tr>\n",
              "    <tr>\n",
              "      <th>4</th>\n",
              "      <td>2019</td>\n",
              "      <td>1</td>\n",
              "      <td>INDENIE-DJUABLIN</td>\n",
              "      <td>ABENGOUROU</td>\n",
              "      <td>C4001</td>\n",
              "      <td>AS27138</td>\n",
              "      <td>2.0</td>\n",
              "      <td>1.0</td>\n",
              "      <td>train</td>\n",
              "    </tr>\n",
              "  </tbody>\n",
              "</table>\n",
              "</div>"
            ],
            "text/plain": [
              "   year  month            region    district site_code product_code  \\\n",
              "0  2019      1  INDENIE-DJUABLIN  ABENGOUROU     C4001      AS27134   \n",
              "1  2019      1  INDENIE-DJUABLIN  ABENGOUROU     C4001      AS27132   \n",
              "2  2019      1  INDENIE-DJUABLIN  ABENGOUROU     C4001      AS27000   \n",
              "3  2019      1  INDENIE-DJUABLIN  ABENGOUROU     C4001      AS27137   \n",
              "4  2019      1  INDENIE-DJUABLIN  ABENGOUROU     C4001      AS27138   \n",
              "\n",
              "   stock_distributed  average_monthly_consumption train_or_test  \n",
              "0               21.0                         18.0         train  \n",
              "1                3.0                          2.0         train  \n",
              "2               22.0                          9.0         train  \n",
              "3                0.0                          0.0         train  \n",
              "4                2.0                          1.0         train  "
            ]
          },
          "metadata": {
            "tags": []
          },
          "execution_count": 82
        }
      ]
    },
    {
      "cell_type": "code",
      "metadata": {
        "id": "htFDIrkldyzp",
        "colab_type": "code",
        "colab": {
          "base_uri": "https://localhost:8080/",
          "height": 204
        },
        "outputId": "9a9caf41-5993-4855-e5d8-e8933a6da7c2"
      },
      "source": [
        "train.head()"
      ],
      "execution_count": null,
      "outputs": [
        {
          "output_type": "execute_result",
          "data": {
            "text/html": [
              "<div>\n",
              "<style scoped>\n",
              "    .dataframe tbody tr th:only-of-type {\n",
              "        vertical-align: middle;\n",
              "    }\n",
              "\n",
              "    .dataframe tbody tr th {\n",
              "        vertical-align: top;\n",
              "    }\n",
              "\n",
              "    .dataframe thead th {\n",
              "        text-align: right;\n",
              "    }\n",
              "</style>\n",
              "<table border=\"1\" class=\"dataframe\">\n",
              "  <thead>\n",
              "    <tr style=\"text-align: right;\">\n",
              "      <th></th>\n",
              "      <th>site_code</th>\n",
              "      <th>year</th>\n",
              "      <th>month</th>\n",
              "      <th>region</th>\n",
              "      <th>district</th>\n",
              "      <th>product_code</th>\n",
              "      <th>stock_distributed</th>\n",
              "      <th>average_monthly_consumption</th>\n",
              "      <th>site_type</th>\n",
              "      <th>lat</th>\n",
              "      <th>long</th>\n",
              "      <th>avg</th>\n",
              "    </tr>\n",
              "  </thead>\n",
              "  <tbody>\n",
              "    <tr>\n",
              "      <th>0</th>\n",
              "      <td>119</td>\n",
              "      <td>2019</td>\n",
              "      <td>1</td>\n",
              "      <td>11</td>\n",
              "      <td>0</td>\n",
              "      <td>5</td>\n",
              "      <td>21.0</td>\n",
              "      <td>18.0</td>\n",
              "      <td>1</td>\n",
              "      <td>6.730937</td>\n",
              "      <td>-3.483863</td>\n",
              "      <td>0</td>\n",
              "    </tr>\n",
              "    <tr>\n",
              "      <th>1</th>\n",
              "      <td>119</td>\n",
              "      <td>2019</td>\n",
              "      <td>1</td>\n",
              "      <td>11</td>\n",
              "      <td>0</td>\n",
              "      <td>3</td>\n",
              "      <td>3.0</td>\n",
              "      <td>2.0</td>\n",
              "      <td>1</td>\n",
              "      <td>6.730937</td>\n",
              "      <td>-3.483863</td>\n",
              "      <td>0</td>\n",
              "    </tr>\n",
              "    <tr>\n",
              "      <th>2</th>\n",
              "      <td>119</td>\n",
              "      <td>2019</td>\n",
              "      <td>1</td>\n",
              "      <td>11</td>\n",
              "      <td>0</td>\n",
              "      <td>2</td>\n",
              "      <td>22.0</td>\n",
              "      <td>9.0</td>\n",
              "      <td>1</td>\n",
              "      <td>6.730937</td>\n",
              "      <td>-3.483863</td>\n",
              "      <td>0</td>\n",
              "    </tr>\n",
              "    <tr>\n",
              "      <th>3</th>\n",
              "      <td>119</td>\n",
              "      <td>2019</td>\n",
              "      <td>1</td>\n",
              "      <td>11</td>\n",
              "      <td>0</td>\n",
              "      <td>6</td>\n",
              "      <td>0.0</td>\n",
              "      <td>0.0</td>\n",
              "      <td>1</td>\n",
              "      <td>6.730937</td>\n",
              "      <td>-3.483863</td>\n",
              "      <td>0</td>\n",
              "    </tr>\n",
              "    <tr>\n",
              "      <th>4</th>\n",
              "      <td>119</td>\n",
              "      <td>2019</td>\n",
              "      <td>1</td>\n",
              "      <td>11</td>\n",
              "      <td>0</td>\n",
              "      <td>7</td>\n",
              "      <td>2.0</td>\n",
              "      <td>1.0</td>\n",
              "      <td>1</td>\n",
              "      <td>6.730937</td>\n",
              "      <td>-3.483863</td>\n",
              "      <td>0</td>\n",
              "    </tr>\n",
              "  </tbody>\n",
              "</table>\n",
              "</div>"
            ],
            "text/plain": [
              "   site_code  year  month  region  district  product_code  stock_distributed  \\\n",
              "0        119  2019      1      11         0             5               21.0   \n",
              "1        119  2019      1      11         0             3                3.0   \n",
              "2        119  2019      1      11         0             2               22.0   \n",
              "3        119  2019      1      11         0             6                0.0   \n",
              "4        119  2019      1      11         0             7                2.0   \n",
              "\n",
              "   average_monthly_consumption  site_type       lat      long  avg  \n",
              "0                         18.0          1  6.730937 -3.483863    0  \n",
              "1                          2.0          1  6.730937 -3.483863    0  \n",
              "2                          9.0          1  6.730937 -3.483863    0  \n",
              "3                          0.0          1  6.730937 -3.483863    0  \n",
              "4                          1.0          1  6.730937 -3.483863    0  "
            ]
          },
          "metadata": {
            "tags": []
          },
          "execution_count": 70
        }
      ]
    },
    {
      "cell_type": "code",
      "metadata": {
        "id": "pa_Y6v9HvyeB",
        "colab_type": "code",
        "colab": {}
      },
      "source": [
        "sd_ls = [col for col in sd.site_code.drop_duplicates()]\n",
        "df_ls = [col for col in test.site_code.drop_duplicates()]\n",
        "\n",
        "intersects = np.intersect1d(sd_ls, df_ls)"
      ],
      "execution_count": null,
      "outputs": []
    },
    {
      "cell_type": "code",
      "metadata": {
        "id": "LluB01LdyYqs",
        "colab_type": "code",
        "colab": {}
      },
      "source": [
        "sd.sort_values(by=['site_code'])"
      ],
      "execution_count": null,
      "outputs": []
    },
    {
      "cell_type": "code",
      "metadata": {
        "id": "9WcVrqNex88s",
        "colab_type": "code",
        "colab": {}
      },
      "source": [
        "df.sort_values(by=['site_code'])"
      ],
      "execution_count": null,
      "outputs": []
    },
    {
      "cell_type": "code",
      "metadata": {
        "id": "IMCN7-58mZ2_",
        "colab_type": "code",
        "colab": {}
      },
      "source": [
        "df['site_type'] = 0\n",
        "df['lat'] = 0\n",
        "df['long'] = 0\n",
        "\n",
        "df.set_index('site_code', inplace=True)\n",
        "sd.set_index('site_code', inplace = True)\n",
        "\n",
        "for i,v in enumerate(df.index):\n",
        "\n",
        "  for j in sd.index:\n",
        "\n",
        "    if v == j:\n",
        "      df.loc[v, 'site_type'] = sd.loc[v, 'site_type']\n",
        "      df.loc[v, 'lat'] = sd.loc[v,'site_latitude']\n",
        "      df.loc[v, 'long'] = sd.loc[v, 'site_longitude']\n"
      ],
      "execution_count": null,
      "outputs": []
    },
    {
      "cell_type": "code",
      "metadata": {
        "id": "xt2dwPnds63-",
        "colab_type": "code",
        "colab": {
          "base_uri": "https://localhost:8080/",
          "height": 111
        },
        "outputId": "5094b151-854d-45a4-d94d-87698a3a595e"
      },
      "source": [
        "df.head(2)"
      ],
      "execution_count": null,
      "outputs": [
        {
          "output_type": "execute_result",
          "data": {
            "text/html": [
              "<div>\n",
              "<style scoped>\n",
              "    .dataframe tbody tr th:only-of-type {\n",
              "        vertical-align: middle;\n",
              "    }\n",
              "\n",
              "    .dataframe tbody tr th {\n",
              "        vertical-align: top;\n",
              "    }\n",
              "\n",
              "    .dataframe thead th {\n",
              "        text-align: right;\n",
              "    }\n",
              "</style>\n",
              "<table border=\"1\" class=\"dataframe\">\n",
              "  <thead>\n",
              "    <tr style=\"text-align: right;\">\n",
              "      <th></th>\n",
              "      <th>year</th>\n",
              "      <th>month</th>\n",
              "      <th>region</th>\n",
              "      <th>district</th>\n",
              "      <th>product_code</th>\n",
              "      <th>stock_distributed</th>\n",
              "      <th>average_monthly_consumption</th>\n",
              "      <th>train_or_test</th>\n",
              "      <th>site_code</th>\n",
              "    </tr>\n",
              "  </thead>\n",
              "  <tbody>\n",
              "    <tr>\n",
              "      <th>C4001</th>\n",
              "      <td>2019</td>\n",
              "      <td>1</td>\n",
              "      <td>INDENIE-DJUABLIN</td>\n",
              "      <td>ABENGOUROU</td>\n",
              "      <td>AS27134</td>\n",
              "      <td>21.0</td>\n",
              "      <td>18.0</td>\n",
              "      <td>train</td>\n",
              "      <td>NaN</td>\n",
              "    </tr>\n",
              "    <tr>\n",
              "      <th>C4001</th>\n",
              "      <td>2019</td>\n",
              "      <td>1</td>\n",
              "      <td>INDENIE-DJUABLIN</td>\n",
              "      <td>ABENGOUROU</td>\n",
              "      <td>AS27132</td>\n",
              "      <td>3.0</td>\n",
              "      <td>2.0</td>\n",
              "      <td>train</td>\n",
              "      <td>NaN</td>\n",
              "    </tr>\n",
              "  </tbody>\n",
              "</table>\n",
              "</div>"
            ],
            "text/plain": [
              "       year  month            region    district product_code  \\\n",
              "C4001  2019      1  INDENIE-DJUABLIN  ABENGOUROU      AS27134   \n",
              "C4001  2019      1  INDENIE-DJUABLIN  ABENGOUROU      AS27132   \n",
              "\n",
              "       stock_distributed  average_monthly_consumption train_or_test site_code  \n",
              "C4001               21.0                         18.0         train       NaN  \n",
              "C4001                3.0                          2.0         train       NaN  "
            ]
          },
          "metadata": {
            "tags": []
          },
          "execution_count": 124
        }
      ]
    },
    {
      "cell_type": "code",
      "metadata": {
        "id": "Coh4nYTStTOP",
        "colab_type": "code",
        "colab": {}
      },
      "source": [
        "df.reset_index( inplace=True)\n",
        "train.reset_index(inplace =True)"
      ],
      "execution_count": null,
      "outputs": []
    },
    {
      "cell_type": "code",
      "metadata": {
        "id": "jvmk4tXWuhNA",
        "colab_type": "code",
        "colab": {
          "base_uri": "https://localhost:8080/",
          "height": 165
        },
        "outputId": "a52df877-ae65-4a61-b6a2-72eb82cd0cff"
      },
      "source": [
        "data.head(2)"
      ],
      "execution_count": null,
      "outputs": [
        {
          "output_type": "execute_result",
          "data": {
            "text/html": [
              "<div>\n",
              "<style scoped>\n",
              "    .dataframe tbody tr th:only-of-type {\n",
              "        vertical-align: middle;\n",
              "    }\n",
              "\n",
              "    .dataframe tbody tr th {\n",
              "        vertical-align: top;\n",
              "    }\n",
              "\n",
              "    .dataframe thead th {\n",
              "        text-align: right;\n",
              "    }\n",
              "</style>\n",
              "<table border=\"1\" class=\"dataframe\">\n",
              "  <thead>\n",
              "    <tr style=\"text-align: right;\">\n",
              "      <th></th>\n",
              "      <th>site_code</th>\n",
              "      <th>year</th>\n",
              "      <th>month</th>\n",
              "      <th>region</th>\n",
              "      <th>district</th>\n",
              "      <th>product_code</th>\n",
              "      <th>stock_distributed</th>\n",
              "      <th>average_monthly_consumption</th>\n",
              "      <th>train_or_test</th>\n",
              "      <th>site_type</th>\n",
              "      <th>lat</th>\n",
              "      <th>long</th>\n",
              "      <th>avg</th>\n",
              "    </tr>\n",
              "  </thead>\n",
              "  <tbody>\n",
              "    <tr>\n",
              "      <th>0</th>\n",
              "      <td>C4001</td>\n",
              "      <td>2019</td>\n",
              "      <td>1</td>\n",
              "      <td>INDENIE-DJUABLIN</td>\n",
              "      <td>ABENGOUROU</td>\n",
              "      <td>AS27134</td>\n",
              "      <td>21.0</td>\n",
              "      <td>18.0</td>\n",
              "      <td>train</td>\n",
              "      <td>Hospital</td>\n",
              "      <td>6.730937</td>\n",
              "      <td>-3.483863</td>\n",
              "      <td>0</td>\n",
              "    </tr>\n",
              "    <tr>\n",
              "      <th>1</th>\n",
              "      <td>C4001</td>\n",
              "      <td>2019</td>\n",
              "      <td>1</td>\n",
              "      <td>INDENIE-DJUABLIN</td>\n",
              "      <td>ABENGOUROU</td>\n",
              "      <td>AS27132</td>\n",
              "      <td>3.0</td>\n",
              "      <td>2.0</td>\n",
              "      <td>train</td>\n",
              "      <td>Hospital</td>\n",
              "      <td>6.730937</td>\n",
              "      <td>-3.483863</td>\n",
              "      <td>0</td>\n",
              "    </tr>\n",
              "  </tbody>\n",
              "</table>\n",
              "</div>"
            ],
            "text/plain": [
              "  site_code  year  month            region    district product_code  \\\n",
              "0     C4001  2019      1  INDENIE-DJUABLIN  ABENGOUROU      AS27134   \n",
              "1     C4001  2019      1  INDENIE-DJUABLIN  ABENGOUROU      AS27132   \n",
              "\n",
              "   stock_distributed  average_monthly_consumption train_or_test site_type  \\\n",
              "0               21.0                         18.0         train  Hospital   \n",
              "1                3.0                          2.0         train  Hospital   \n",
              "\n",
              "        lat      long  avg  \n",
              "0  6.730937 -3.483863    0  \n",
              "1  6.730937 -3.483863    0  "
            ]
          },
          "metadata": {
            "tags": []
          },
          "execution_count": 116
        }
      ]
    },
    {
      "cell_type": "code",
      "metadata": {
        "id": "E6lbHl9y9YBO",
        "colab_type": "code",
        "colab": {}
      },
      "source": [
        "df = df.reset_index()"
      ],
      "execution_count": null,
      "outputs": []
    },
    {
      "cell_type": "code",
      "metadata": {
        "id": "SFrWufRJ_I2x",
        "colab_type": "code",
        "colab": {
          "base_uri": "https://localhost:8080/",
          "height": 204
        },
        "outputId": "51e7b5cb-12ed-4689-a447-af0b8832022a"
      },
      "source": [
        "df.head()"
      ],
      "execution_count": null,
      "outputs": [
        {
          "output_type": "execute_result",
          "data": {
            "text/html": [
              "<div>\n",
              "<style scoped>\n",
              "    .dataframe tbody tr th:only-of-type {\n",
              "        vertical-align: middle;\n",
              "    }\n",
              "\n",
              "    .dataframe tbody tr th {\n",
              "        vertical-align: top;\n",
              "    }\n",
              "\n",
              "    .dataframe thead th {\n",
              "        text-align: right;\n",
              "    }\n",
              "</style>\n",
              "<table border=\"1\" class=\"dataframe\">\n",
              "  <thead>\n",
              "    <tr style=\"text-align: right;\">\n",
              "      <th></th>\n",
              "      <th>site_code</th>\n",
              "      <th>year</th>\n",
              "      <th>month</th>\n",
              "      <th>region</th>\n",
              "      <th>district</th>\n",
              "      <th>product_code</th>\n",
              "      <th>stock_distributed</th>\n",
              "      <th>average_monthly_consumption</th>\n",
              "      <th>train_or_test</th>\n",
              "      <th>site_type</th>\n",
              "      <th>lat</th>\n",
              "      <th>long</th>\n",
              "      <th>avg</th>\n",
              "    </tr>\n",
              "  </thead>\n",
              "  <tbody>\n",
              "    <tr>\n",
              "      <th>0</th>\n",
              "      <td>119</td>\n",
              "      <td>2019</td>\n",
              "      <td>1</td>\n",
              "      <td>11</td>\n",
              "      <td>0</td>\n",
              "      <td>5</td>\n",
              "      <td>21.0</td>\n",
              "      <td>18.0</td>\n",
              "      <td>train</td>\n",
              "      <td>1</td>\n",
              "      <td>6.730937</td>\n",
              "      <td>-3.483863</td>\n",
              "      <td>0</td>\n",
              "    </tr>\n",
              "    <tr>\n",
              "      <th>1</th>\n",
              "      <td>119</td>\n",
              "      <td>2019</td>\n",
              "      <td>1</td>\n",
              "      <td>11</td>\n",
              "      <td>0</td>\n",
              "      <td>3</td>\n",
              "      <td>3.0</td>\n",
              "      <td>2.0</td>\n",
              "      <td>train</td>\n",
              "      <td>1</td>\n",
              "      <td>6.730937</td>\n",
              "      <td>-3.483863</td>\n",
              "      <td>0</td>\n",
              "    </tr>\n",
              "    <tr>\n",
              "      <th>2</th>\n",
              "      <td>119</td>\n",
              "      <td>2019</td>\n",
              "      <td>1</td>\n",
              "      <td>11</td>\n",
              "      <td>0</td>\n",
              "      <td>2</td>\n",
              "      <td>22.0</td>\n",
              "      <td>9.0</td>\n",
              "      <td>train</td>\n",
              "      <td>1</td>\n",
              "      <td>6.730937</td>\n",
              "      <td>-3.483863</td>\n",
              "      <td>0</td>\n",
              "    </tr>\n",
              "    <tr>\n",
              "      <th>3</th>\n",
              "      <td>119</td>\n",
              "      <td>2019</td>\n",
              "      <td>1</td>\n",
              "      <td>11</td>\n",
              "      <td>0</td>\n",
              "      <td>6</td>\n",
              "      <td>0.0</td>\n",
              "      <td>0.0</td>\n",
              "      <td>train</td>\n",
              "      <td>1</td>\n",
              "      <td>6.730937</td>\n",
              "      <td>-3.483863</td>\n",
              "      <td>0</td>\n",
              "    </tr>\n",
              "    <tr>\n",
              "      <th>4</th>\n",
              "      <td>119</td>\n",
              "      <td>2019</td>\n",
              "      <td>1</td>\n",
              "      <td>11</td>\n",
              "      <td>0</td>\n",
              "      <td>7</td>\n",
              "      <td>2.0</td>\n",
              "      <td>1.0</td>\n",
              "      <td>train</td>\n",
              "      <td>1</td>\n",
              "      <td>6.730937</td>\n",
              "      <td>-3.483863</td>\n",
              "      <td>0</td>\n",
              "    </tr>\n",
              "  </tbody>\n",
              "</table>\n",
              "</div>"
            ],
            "text/plain": [
              "   site_code  year  month  region  district  product_code  stock_distributed  \\\n",
              "0        119  2019      1      11         0             5               21.0   \n",
              "1        119  2019      1      11         0             3                3.0   \n",
              "2        119  2019      1      11         0             2               22.0   \n",
              "3        119  2019      1      11         0             6                0.0   \n",
              "4        119  2019      1      11         0             7                2.0   \n",
              "\n",
              "   average_monthly_consumption train_or_test  site_type       lat      long  \\\n",
              "0                         18.0         train          1  6.730937 -3.483863   \n",
              "1                          2.0         train          1  6.730937 -3.483863   \n",
              "2                          9.0         train          1  6.730937 -3.483863   \n",
              "3                          0.0         train          1  6.730937 -3.483863   \n",
              "4                          1.0         train          1  6.730937 -3.483863   \n",
              "\n",
              "   avg  \n",
              "0    0  \n",
              "1    0  \n",
              "2    0  \n",
              "3    0  \n",
              "4    0  "
            ]
          },
          "metadata": {
            "tags": []
          },
          "execution_count": 65
        }
      ]
    },
    {
      "cell_type": "code",
      "metadata": {
        "id": "8Ie606swTLAi",
        "colab_type": "code",
        "colab": {}
      },
      "source": [
        "df.to_csv('/content/drive/My Drive/usaid/DataFrame.csv')"
      ],
      "execution_count": null,
      "outputs": []
    },
    {
      "cell_type": "code",
      "metadata": {
        "id": "9MDSg0o0fLc0",
        "colab_type": "code",
        "colab": {}
      },
      "source": [
        "data =pd.read_csv('/content/drive/My Drive/usaid/DataFrame.csv')"
      ],
      "execution_count": null,
      "outputs": []
    },
    {
      "cell_type": "code",
      "metadata": {
        "id": "fCfwIenLfRs_",
        "colab_type": "code",
        "colab": {}
      },
      "source": [
        "data.drop(columns=['Unnamed: 0'], axis  = 1, inplace=True)"
      ],
      "execution_count": null,
      "outputs": []
    },
    {
      "cell_type": "code",
      "metadata": {
        "id": "h1X3DrEir7V_",
        "colab_type": "code",
        "colab": {
          "base_uri": "https://localhost:8080/",
          "height": 142
        },
        "outputId": "eed079b8-2aff-4e2c-9ca9-1a2c6c85549d"
      },
      "source": [
        "data.head(3)"
      ],
      "execution_count": null,
      "outputs": [
        {
          "output_type": "execute_result",
          "data": {
            "text/html": [
              "<div>\n",
              "<style scoped>\n",
              "    .dataframe tbody tr th:only-of-type {\n",
              "        vertical-align: middle;\n",
              "    }\n",
              "\n",
              "    .dataframe tbody tr th {\n",
              "        vertical-align: top;\n",
              "    }\n",
              "\n",
              "    .dataframe thead th {\n",
              "        text-align: right;\n",
              "    }\n",
              "</style>\n",
              "<table border=\"1\" class=\"dataframe\">\n",
              "  <thead>\n",
              "    <tr style=\"text-align: right;\">\n",
              "      <th></th>\n",
              "      <th>site_code</th>\n",
              "      <th>year</th>\n",
              "      <th>month</th>\n",
              "      <th>region</th>\n",
              "      <th>district</th>\n",
              "      <th>product_code</th>\n",
              "      <th>stock_distributed</th>\n",
              "      <th>train_or_test</th>\n",
              "      <th>site_type</th>\n",
              "      <th>lat</th>\n",
              "      <th>long</th>\n",
              "    </tr>\n",
              "  </thead>\n",
              "  <tbody>\n",
              "    <tr>\n",
              "      <th>0</th>\n",
              "      <td>C4001</td>\n",
              "      <td>2019</td>\n",
              "      <td>1</td>\n",
              "      <td>INDENIE-DJUABLIN</td>\n",
              "      <td>ABENGOUROU</td>\n",
              "      <td>AS27134</td>\n",
              "      <td>21.0</td>\n",
              "      <td>train</td>\n",
              "      <td>Hospital</td>\n",
              "      <td>6.730937</td>\n",
              "      <td>-3.483863</td>\n",
              "    </tr>\n",
              "    <tr>\n",
              "      <th>1</th>\n",
              "      <td>C4001</td>\n",
              "      <td>2019</td>\n",
              "      <td>1</td>\n",
              "      <td>INDENIE-DJUABLIN</td>\n",
              "      <td>ABENGOUROU</td>\n",
              "      <td>AS27132</td>\n",
              "      <td>3.0</td>\n",
              "      <td>train</td>\n",
              "      <td>Hospital</td>\n",
              "      <td>6.730937</td>\n",
              "      <td>-3.483863</td>\n",
              "    </tr>\n",
              "    <tr>\n",
              "      <th>2</th>\n",
              "      <td>C4001</td>\n",
              "      <td>2019</td>\n",
              "      <td>1</td>\n",
              "      <td>INDENIE-DJUABLIN</td>\n",
              "      <td>ABENGOUROU</td>\n",
              "      <td>AS27000</td>\n",
              "      <td>22.0</td>\n",
              "      <td>train</td>\n",
              "      <td>Hospital</td>\n",
              "      <td>6.730937</td>\n",
              "      <td>-3.483863</td>\n",
              "    </tr>\n",
              "  </tbody>\n",
              "</table>\n",
              "</div>"
            ],
            "text/plain": [
              "  site_code  year  month            region    district product_code  \\\n",
              "0     C4001  2019      1  INDENIE-DJUABLIN  ABENGOUROU      AS27134   \n",
              "1     C4001  2019      1  INDENIE-DJUABLIN  ABENGOUROU      AS27132   \n",
              "2     C4001  2019      1  INDENIE-DJUABLIN  ABENGOUROU      AS27000   \n",
              "\n",
              "   stock_distributed train_or_test site_type       lat      long  \n",
              "0               21.0         train  Hospital  6.730937 -3.483863  \n",
              "1                3.0         train  Hospital  6.730937 -3.483863  \n",
              "2               22.0         train  Hospital  6.730937 -3.483863  "
            ]
          },
          "metadata": {
            "tags": []
          },
          "execution_count": 178
        }
      ]
    },
    {
      "cell_type": "code",
      "metadata": {
        "id": "ge_u-qT22G-Q",
        "colab_type": "code",
        "colab": {}
      },
      "source": [
        "from sklearn.preprocessing import LabelEncoder\n",
        "le = LabelEncoder()\n",
        "cat_features = ['region','district','site_code','product_code','site_type']\n",
        "\n",
        "for col in ['region','district','site_code','product_code','site_type']:\n",
        "  data[col]=  data[col].astype('str')\n",
        "  data[col]= le.fit_transform(data[col])"
      ],
      "execution_count": null,
      "outputs": []
    },
    {
      "cell_type": "code",
      "metadata": {
        "id": "lGiY190Lbbl7",
        "colab_type": "code",
        "colab": {
          "base_uri": "https://localhost:8080/",
          "height": 34
        },
        "outputId": "e21ac55b-ab55-4dae-f910-31a84cfdfbf8"
      },
      "source": [
        "data.shape"
      ],
      "execution_count": null,
      "outputs": [
        {
          "output_type": "execute_result",
          "data": {
            "text/plain": [
              "(38842, 11)"
            ]
          },
          "metadata": {
            "tags": []
          },
          "execution_count": 180
        }
      ]
    },
    {
      "cell_type": "code",
      "metadata": {
        "id": "VqoJpVqhWs_-",
        "colab_type": "code",
        "colab": {
          "base_uri": "https://localhost:8080/",
          "height": 298
        },
        "outputId": "9e90fefe-8fa4-4f90-84e1-f7246fcb3935"
      },
      "source": [
        "import seaborn as sns\n",
        "\n",
        "with sns.plotting_context(\"notebook\",font_scale=1.5):\n",
        "  sns.set_style(\"whitegrid\")\n",
        "  sns.distplot(X[\"distance\"].dropna(),\n",
        "                bins=80,\n",
        "                kde=False,\n",
        "                color=\"tomato\")\n",
        "  plt.ylabel(\"Count\")"
      ],
      "execution_count": null,
      "outputs": [
        {
          "output_type": "display_data",
          "data": {
            "image/png": "[encoded data removed]",
            "text/plain": [
              "<Figure size 432x288 with 1 Axes>"
            ]
          },
          "metadata": {
            "tags": []
          }
        }
      ]
    },
    {
      "cell_type": "code",
      "metadata": {
        "id": "9wd0ifer2G0-",
        "colab_type": "code",
        "colab": {
          "base_uri": "https://localhost:8080/",
          "height": 102
        },
        "outputId": "7df692e9-f6d4-47d7-cadc-388be63e8bb0"
      },
      "source": [
        "train=data.loc[data.train_or_test.isin(['train'])]\n",
        "test=data.loc[data.train_or_test.isin(['test'])]\n",
        "train.drop(columns={'train_or_test'},axis=1,inplace=True)\n",
        "test.drop(columns={'train_or_test'},axis=1,inplace=True)"
      ],
      "execution_count": null,
      "outputs": [
        {
          "output_type": "stream",
          "text": [
            "/usr/local/lib/python3.6/dist-packages/pandas/core/frame.py:3997: SettingWithCopyWarning: \n",
            "A value is trying to be set on a copy of a slice from a DataFrame\n",
            "\n",
            "See the caveats in the documentation: https://pandas.pydata.org/pandas-docs/stable/user_guide/indexing.html#returning-a-view-versus-a-copy\n",
            "  errors=errors,\n"
          ],
          "name": "stderr"
        }
      ]
    },
    {
      "cell_type": "code",
      "metadata": {
        "id": "Mptnb2E33TLw",
        "colab_type": "code",
        "colab": {
          "base_uri": "https://localhost:8080/",
          "height": 34
        },
        "outputId": "6cbbbdbc-9ca3-4d3b-b435-890a0eb601a1"
      },
      "source": [
        "print(len(test),len(submission))"
      ],
      "execution_count": null,
      "outputs": [
        {
          "output_type": "stream",
          "text": [
            "3089 3089\n"
          ],
          "name": "stdout"
        }
      ]
    },
    {
      "cell_type": "code",
      "metadata": {
        "id": "bsFzypX1Z6V7",
        "colab_type": "code",
        "colab": {
          "base_uri": "https://localhost:8080/",
          "height": 34
        },
        "outputId": "1f161fca-0a86-4c1d-be12-79d2b8a52545"
      },
      "source": [
        "train.month.isna().sum()"
      ],
      "execution_count": null,
      "outputs": [
        {
          "output_type": "execute_result",
          "data": {
            "text/plain": [
              "0"
            ]
          },
          "metadata": {
            "tags": []
          },
          "execution_count": 42
        }
      ]
    },
    {
      "cell_type": "code",
      "metadata": {
        "id": "OCOALl6u3TVI",
        "colab_type": "code",
        "colab": {}
      },
      "source": [
        "X=train.drop(columns={'stock_distributed'})\n",
        "y=train.loc[:,['stock_distributed']]\n",
        "del test['stock_distributed']"
      ],
      "execution_count": null,
      "outputs": []
    },
    {
      "cell_type": "code",
      "metadata": {
        "id": "fjMbcL-u4DWF",
        "colab_type": "code",
        "colab": {
          "base_uri": "https://localhost:8080/",
          "height": 34
        },
        "outputId": "70bafb07-7d13-4740-bc59-9a6b24b0f04f"
      },
      "source": [
        "print(X.shape, y.shape)"
      ],
      "execution_count": null,
      "outputs": [
        {
          "output_type": "stream",
          "text": [
            "(35753, 10) (35753, 1)\n"
          ],
          "name": "stdout"
        }
      ]
    },
    {
      "cell_type": "code",
      "metadata": {
        "id": "IwGrHKgT4v2J",
        "colab_type": "code",
        "colab": {
          "base_uri": "https://localhost:8080/",
          "height": 142
        },
        "outputId": "149cdc62-4f62-44ed-f8bf-fceea99dab1b"
      },
      "source": [
        "X.head(3)"
      ],
      "execution_count": null,
      "outputs": [
        {
          "output_type": "execute_result",
          "data": {
            "text/html": [
              "<div>\n",
              "<style scoped>\n",
              "    .dataframe tbody tr th:only-of-type {\n",
              "        vertical-align: middle;\n",
              "    }\n",
              "\n",
              "    .dataframe tbody tr th {\n",
              "        vertical-align: top;\n",
              "    }\n",
              "\n",
              "    .dataframe thead th {\n",
              "        text-align: right;\n",
              "    }\n",
              "</style>\n",
              "<table border=\"1\" class=\"dataframe\">\n",
              "  <thead>\n",
              "    <tr style=\"text-align: right;\">\n",
              "      <th></th>\n",
              "      <th>site_code</th>\n",
              "      <th>year</th>\n",
              "      <th>month</th>\n",
              "      <th>region</th>\n",
              "      <th>district</th>\n",
              "      <th>product_code</th>\n",
              "      <th>average_monthly_consumption</th>\n",
              "      <th>site_type</th>\n",
              "      <th>lat</th>\n",
              "      <th>long</th>\n",
              "    </tr>\n",
              "  </thead>\n",
              "  <tbody>\n",
              "    <tr>\n",
              "      <th>0</th>\n",
              "      <td>119</td>\n",
              "      <td>2019</td>\n",
              "      <td>1</td>\n",
              "      <td>11</td>\n",
              "      <td>0</td>\n",
              "      <td>5</td>\n",
              "      <td>18.0</td>\n",
              "      <td>1</td>\n",
              "      <td>6.730937</td>\n",
              "      <td>-3.483863</td>\n",
              "    </tr>\n",
              "    <tr>\n",
              "      <th>1</th>\n",
              "      <td>119</td>\n",
              "      <td>2019</td>\n",
              "      <td>1</td>\n",
              "      <td>11</td>\n",
              "      <td>0</td>\n",
              "      <td>3</td>\n",
              "      <td>2.0</td>\n",
              "      <td>1</td>\n",
              "      <td>6.730937</td>\n",
              "      <td>-3.483863</td>\n",
              "    </tr>\n",
              "    <tr>\n",
              "      <th>2</th>\n",
              "      <td>119</td>\n",
              "      <td>2019</td>\n",
              "      <td>1</td>\n",
              "      <td>11</td>\n",
              "      <td>0</td>\n",
              "      <td>2</td>\n",
              "      <td>9.0</td>\n",
              "      <td>1</td>\n",
              "      <td>6.730937</td>\n",
              "      <td>-3.483863</td>\n",
              "    </tr>\n",
              "  </tbody>\n",
              "</table>\n",
              "</div>"
            ],
            "text/plain": [
              "   site_code  year  month  region  district  product_code  \\\n",
              "0        119  2019      1      11         0             5   \n",
              "1        119  2019      1      11         0             3   \n",
              "2        119  2019      1      11         0             2   \n",
              "\n",
              "   average_monthly_consumption  site_type       lat      long  \n",
              "0                         18.0          1  6.730937 -3.483863  \n",
              "1                          2.0          1  6.730937 -3.483863  \n",
              "2                          9.0          1  6.730937 -3.483863  "
            ]
          },
          "metadata": {
            "tags": []
          },
          "execution_count": 141
        }
      ]
    },
    {
      "cell_type": "code",
      "metadata": {
        "id": "97XywymD4mVE",
        "colab_type": "code",
        "colab": {
          "base_uri": "https://localhost:8080/",
          "height": 204
        },
        "outputId": "3be0aa00-39ac-4b33-8458-6dd5300cd397"
      },
      "source": [
        "test.head()"
      ],
      "execution_count": null,
      "outputs": [
        {
          "output_type": "execute_result",
          "data": {
            "text/html": [
              "<div>\n",
              "<style scoped>\n",
              "    .dataframe tbody tr th:only-of-type {\n",
              "        vertical-align: middle;\n",
              "    }\n",
              "\n",
              "    .dataframe tbody tr th {\n",
              "        vertical-align: top;\n",
              "    }\n",
              "\n",
              "    .dataframe thead th {\n",
              "        text-align: right;\n",
              "    }\n",
              "</style>\n",
              "<table border=\"1\" class=\"dataframe\">\n",
              "  <thead>\n",
              "    <tr style=\"text-align: right;\">\n",
              "      <th></th>\n",
              "      <th>site_code</th>\n",
              "      <th>year</th>\n",
              "      <th>month</th>\n",
              "      <th>region</th>\n",
              "      <th>district</th>\n",
              "      <th>product_code</th>\n",
              "      <th>average_monthly_consumption</th>\n",
              "      <th>site_type</th>\n",
              "      <th>lat</th>\n",
              "      <th>long</th>\n",
              "    </tr>\n",
              "  </thead>\n",
              "  <tbody>\n",
              "    <tr>\n",
              "      <th>35753</th>\n",
              "      <td>119</td>\n",
              "      <td>2019</td>\n",
              "      <td>7</td>\n",
              "      <td>11</td>\n",
              "      <td>0</td>\n",
              "      <td>1</td>\n",
              "      <td>NaN</td>\n",
              "      <td>1</td>\n",
              "      <td>6.730937</td>\n",
              "      <td>-3.483863</td>\n",
              "    </tr>\n",
              "    <tr>\n",
              "      <th>35754</th>\n",
              "      <td>119</td>\n",
              "      <td>2019</td>\n",
              "      <td>7</td>\n",
              "      <td>11</td>\n",
              "      <td>0</td>\n",
              "      <td>5</td>\n",
              "      <td>NaN</td>\n",
              "      <td>1</td>\n",
              "      <td>6.730937</td>\n",
              "      <td>-3.483863</td>\n",
              "    </tr>\n",
              "    <tr>\n",
              "      <th>35755</th>\n",
              "      <td>119</td>\n",
              "      <td>2019</td>\n",
              "      <td>7</td>\n",
              "      <td>11</td>\n",
              "      <td>0</td>\n",
              "      <td>3</td>\n",
              "      <td>NaN</td>\n",
              "      <td>1</td>\n",
              "      <td>6.730937</td>\n",
              "      <td>-3.483863</td>\n",
              "    </tr>\n",
              "    <tr>\n",
              "      <th>35756</th>\n",
              "      <td>119</td>\n",
              "      <td>2019</td>\n",
              "      <td>7</td>\n",
              "      <td>11</td>\n",
              "      <td>0</td>\n",
              "      <td>2</td>\n",
              "      <td>NaN</td>\n",
              "      <td>1</td>\n",
              "      <td>6.730937</td>\n",
              "      <td>-3.483863</td>\n",
              "    </tr>\n",
              "    <tr>\n",
              "      <th>35757</th>\n",
              "      <td>119</td>\n",
              "      <td>2019</td>\n",
              "      <td>7</td>\n",
              "      <td>11</td>\n",
              "      <td>0</td>\n",
              "      <td>6</td>\n",
              "      <td>NaN</td>\n",
              "      <td>1</td>\n",
              "      <td>6.730937</td>\n",
              "      <td>-3.483863</td>\n",
              "    </tr>\n",
              "  </tbody>\n",
              "</table>\n",
              "</div>"
            ],
            "text/plain": [
              "       site_code  year  month  region  district  product_code  \\\n",
              "35753        119  2019      7      11         0             1   \n",
              "35754        119  2019      7      11         0             5   \n",
              "35755        119  2019      7      11         0             3   \n",
              "35756        119  2019      7      11         0             2   \n",
              "35757        119  2019      7      11         0             6   \n",
              "\n",
              "       average_monthly_consumption  site_type       lat      long  \n",
              "35753                          NaN          1  6.730937 -3.483863  \n",
              "35754                          NaN          1  6.730937 -3.483863  \n",
              "35755                          NaN          1  6.730937 -3.483863  \n",
              "35756                          NaN          1  6.730937 -3.483863  \n",
              "35757                          NaN          1  6.730937 -3.483863  "
            ]
          },
          "metadata": {
            "tags": []
          },
          "execution_count": 142
        }
      ]
    },
    {
      "cell_type": "code",
      "metadata": {
        "id": "LWEc2RsQ_SMv",
        "colab_type": "code",
        "colab": {
          "base_uri": "https://localhost:8080/",
          "height": 255
        },
        "outputId": "76b4298c-7810-4a6a-dcd1-824a67a63e94"
      },
      "source": [
        "!pip install mlxtend"
      ],
      "execution_count": null,
      "outputs": [
        {
          "output_type": "stream",
          "text": [
            "Requirement already satisfied: mlxtend in /usr/local/lib/python3.6/dist-packages (0.14.0)\n",
            "Requirement already satisfied: scipy>=0.17 in /usr/local/lib/python3.6/dist-packages (from mlxtend) (1.4.1)\n",
            "Requirement already satisfied: matplotlib>=1.5.1 in /usr/local/lib/python3.6/dist-packages (from mlxtend) (3.2.2)\n",
            "Requirement already satisfied: pandas>=0.17.1 in /usr/local/lib/python3.6/dist-packages (from mlxtend) (1.0.5)\n",
            "Requirement already satisfied: setuptools in /usr/local/lib/python3.6/dist-packages (from mlxtend) (49.2.0)\n",
            "Requirement already satisfied: numpy>=1.10.4 in /usr/local/lib/python3.6/dist-packages (from mlxtend) (1.18.5)\n",
            "Requirement already satisfied: scikit-learn>=0.18 in /usr/local/lib/python3.6/dist-packages (from mlxtend) (0.22.2.post1)\n",
            "Requirement already satisfied: kiwisolver>=1.0.1 in /usr/local/lib/python3.6/dist-packages (from matplotlib>=1.5.1->mlxtend) (1.2.0)\n",
            "Requirement already satisfied: pyparsing!=2.0.4,!=2.1.2,!=2.1.6,>=2.0.1 in /usr/local/lib/python3.6/dist-packages (from matplotlib>=1.5.1->mlxtend) (2.4.7)\n",
            "Requirement already satisfied: cycler>=0.10 in /usr/local/lib/python3.6/dist-packages (from matplotlib>=1.5.1->mlxtend) (0.10.0)\n",
            "Requirement already satisfied: python-dateutil>=2.1 in /usr/local/lib/python3.6/dist-packages (from matplotlib>=1.5.1->mlxtend) (2.8.1)\n",
            "Requirement already satisfied: pytz>=2017.2 in /usr/local/lib/python3.6/dist-packages (from pandas>=0.17.1->mlxtend) (2018.9)\n",
            "Requirement already satisfied: joblib>=0.11 in /usr/local/lib/python3.6/dist-packages (from scikit-learn>=0.18->mlxtend) (0.16.0)\n",
            "Requirement already satisfied: six in /usr/local/lib/python3.6/dist-packages (from cycler>=0.10->matplotlib>=1.5.1->mlxtend) (1.15.0)\n"
          ],
          "name": "stdout"
        }
      ]
    },
    {
      "cell_type": "code",
      "metadata": {
        "id": "xXUmhAW4BK56",
        "colab_type": "code",
        "colab": {
          "base_uri": "https://localhost:8080/",
          "height": 51
        },
        "outputId": "55b70a32-55d7-40be-e736-9da4dd32f964"
      },
      "source": [
        "!pip install geopy"
      ],
      "execution_count": null,
      "outputs": [
        {
          "output_type": "stream",
          "text": [
            "Requirement already satisfied: geopy in /usr/local/lib/python3.6/dist-packages (1.17.0)\n",
            "Requirement already satisfied: geographiclib<2,>=1.49 in /usr/local/lib/python3.6/dist-packages (from geopy) (1.50)\n"
          ],
          "name": "stdout"
        }
      ]
    },
    {
      "cell_type": "code",
      "metadata": {
        "id": "m6cCs4alB8t6",
        "colab_type": "code",
        "colab": {
          "base_uri": "https://localhost:8080/",
          "height": 173
        },
        "outputId": "3bda4266-1a30-4b4f-8dd5-41042d20c70c"
      },
      "source": [
        "# calculate distance between the coordinates\n",
        "from geopy.distance import vincenty\n",
        "\n",
        "\n",
        "X['distance'] = X.apply(lambda x : vincenty(x['lat'], x['long']), axis = 1)\n",
        "test['distance'] = test.apply(lambda x: vincenty(x['lat'], x['long']), axis=1)"
      ],
      "execution_count": null,
      "outputs": [
        {
          "output_type": "stream",
          "text": [
            "/usr/local/lib/python3.6/dist-packages/geopy/point.py:180: UserWarning: A single number has been passed to the Point constructor. This is probably a mistake, because constructing a Point with just a latitude seems senseless. If this is exactly what was meant, then pass the zero longitude explicitly to get rid of this warning.\n",
            "  UserWarning)\n",
            "/usr/local/lib/python3.6/dist-packages/ipykernel_launcher.py:6: SettingWithCopyWarning: \n",
            "A value is trying to be set on a copy of a slice from a DataFrame.\n",
            "Try using .loc[row_indexer,col_indexer] = value instead\n",
            "\n",
            "See the caveats in the documentation: https://pandas.pydata.org/pandas-docs/stable/user_guide/indexing.html#returning-a-view-versus-a-copy\n",
            "  \n"
          ],
          "name": "stderr"
        }
      ]
    },
    {
      "cell_type": "code",
      "metadata": {
        "id": "a79r2f9dDSex",
        "colab_type": "code",
        "colab": {
          "base_uri": "https://localhost:8080/",
          "height": 102
        },
        "outputId": "a59a926d-0ad7-430e-bfe5-a1baea4e5037"
      },
      "source": [
        "X.drop(columns=['lat', 'long'], axis = 1, inplace =True)\n",
        "test.drop(columns=['lat','long'], axis = 1, inplace =True)"
      ],
      "execution_count": null,
      "outputs": [
        {
          "output_type": "stream",
          "text": [
            "/usr/local/lib/python3.6/dist-packages/pandas/core/frame.py:3997: SettingWithCopyWarning: \n",
            "A value is trying to be set on a copy of a slice from a DataFrame\n",
            "\n",
            "See the caveats in the documentation: https://pandas.pydata.org/pandas-docs/stable/user_guide/indexing.html#returning-a-view-versus-a-copy\n",
            "  errors=errors,\n"
          ],
          "name": "stderr"
        }
      ]
    },
    {
      "cell_type": "code",
      "metadata": {
        "id": "tZtaOFw7ETWA",
        "colab_type": "code",
        "colab": {}
      },
      "source": [
        "X.distance = X.distance.apply(lambda x : x.kilometers)"
      ],
      "execution_count": null,
      "outputs": []
    },
    {
      "cell_type": "code",
      "metadata": {
        "id": "54VxTKIJDy9Z",
        "colab_type": "code",
        "colab": {
          "base_uri": "https://localhost:8080/",
          "height": 119
        },
        "outputId": "89b11910-3372-47a7-85ea-42668822b176"
      },
      "source": [
        "test.distance = test.distance.apply(lambda x : x.kilometers)"
      ],
      "execution_count": null,
      "outputs": [
        {
          "output_type": "stream",
          "text": [
            "/usr/local/lib/python3.6/dist-packages/pandas/core/generic.py:5303: SettingWithCopyWarning: \n",
            "A value is trying to be set on a copy of a slice from a DataFrame.\n",
            "Try using .loc[row_indexer,col_indexer] = value instead\n",
            "\n",
            "See the caveats in the documentation: https://pandas.pydata.org/pandas-docs/stable/user_guide/indexing.html#returning-a-view-versus-a-copy\n",
            "  self[name] = value\n"
          ],
          "name": "stderr"
        }
      ]
    },
    {
      "cell_type": "code",
      "metadata": {
        "id": "cUdhjxFE_tOw",
        "colab_type": "code",
        "colab": {
          "base_uri": "https://localhost:8080/",
          "height": 629
        },
        "outputId": "c090b835-de23-48f6-fa67-320200f3446e"
      },
      "source": [
        "# Standardizing #\n",
        "from sklearn.preprocessing import StandardScaler,MinMaxScaler\n",
        "\n",
        "\n",
        "scaler = StandardScaler()\n",
        "scaler2 = MinMaxScaler(feature_range=(0,1))\n",
        "\n",
        "\n",
        "X[['distance']] = scaler.fit_transform(X[['distance']])\n",
        "test[['distance']] = scaler.fit_transform(test[['distance']])\n",
        "\n",
        "X[['month']] = scaler.fit_transform(X[['month']])\n",
        "X[['year']] = scaler.fit_transform(X[['year']])\n",
        "\n",
        "test[['month']] = scaler.fit_transform(test[['month']])\n",
        "test[['year']] = scaler.fit_transform(test[['year']])"
      ],
      "execution_count": null,
      "outputs": [
        {
          "output_type": "stream",
          "text": [
            "/usr/local/lib/python3.6/dist-packages/ipykernel_launcher.py:10: SettingWithCopyWarning: \n",
            "A value is trying to be set on a copy of a slice from a DataFrame.\n",
            "Try using .loc[row_indexer,col_indexer] = value instead\n",
            "\n",
            "See the caveats in the documentation: https://pandas.pydata.org/pandas-docs/stable/user_guide/indexing.html#returning-a-view-versus-a-copy\n",
            "  # Remove the CWD from sys.path while we load stuff.\n",
            "/usr/local/lib/python3.6/dist-packages/pandas/core/indexing.py:966: SettingWithCopyWarning: \n",
            "A value is trying to be set on a copy of a slice from a DataFrame.\n",
            "Try using .loc[row_indexer,col_indexer] = value instead\n",
            "\n",
            "See the caveats in the documentation: https://pandas.pydata.org/pandas-docs/stable/user_guide/indexing.html#returning-a-view-versus-a-copy\n",
            "  self.obj[item] = s\n",
            "/usr/local/lib/python3.6/dist-packages/ipykernel_launcher.py:15: SettingWithCopyWarning: \n",
            "A value is trying to be set on a copy of a slice from a DataFrame.\n",
            "Try using .loc[row_indexer,col_indexer] = value instead\n",
            "\n",
            "See the caveats in the documentation: https://pandas.pydata.org/pandas-docs/stable/user_guide/indexing.html#returning-a-view-versus-a-copy\n",
            "  from ipykernel import kernelapp as app\n",
            "/usr/local/lib/python3.6/dist-packages/pandas/core/indexing.py:966: SettingWithCopyWarning: \n",
            "A value is trying to be set on a copy of a slice from a DataFrame.\n",
            "Try using .loc[row_indexer,col_indexer] = value instead\n",
            "\n",
            "See the caveats in the documentation: https://pandas.pydata.org/pandas-docs/stable/user_guide/indexing.html#returning-a-view-versus-a-copy\n",
            "  self.obj[item] = s\n",
            "/usr/local/lib/python3.6/dist-packages/ipykernel_launcher.py:16: SettingWithCopyWarning: \n",
            "A value is trying to be set on a copy of a slice from a DataFrame.\n",
            "Try using .loc[row_indexer,col_indexer] = value instead\n",
            "\n",
            "See the caveats in the documentation: https://pandas.pydata.org/pandas-docs/stable/user_guide/indexing.html#returning-a-view-versus-a-copy\n",
            "  app.launch_new_instance()\n",
            "/usr/local/lib/python3.6/dist-packages/pandas/core/indexing.py:966: SettingWithCopyWarning: \n",
            "A value is trying to be set on a copy of a slice from a DataFrame.\n",
            "Try using .loc[row_indexer,col_indexer] = value instead\n",
            "\n",
            "See the caveats in the documentation: https://pandas.pydata.org/pandas-docs/stable/user_guide/indexing.html#returning-a-view-versus-a-copy\n",
            "  self.obj[item] = s\n"
          ],
          "name": "stderr"
        }
      ]
    },
    {
      "cell_type": "code",
      "metadata": {
        "id": "p6gpS5jF0Wzq",
        "colab_type": "code",
        "colab": {}
      },
      "source": [
        "test.fillna(0, inplace=True)"
      ],
      "execution_count": null,
      "outputs": []
    },
    {
      "cell_type": "code",
      "metadata": {
        "id": "h9LpqGZ0zY6l",
        "colab_type": "code",
        "colab": {
          "base_uri": "https://localhost:8080/",
          "height": 204
        },
        "outputId": "701bbd86-390d-4e3a-b41b-285d58ae8642"
      },
      "source": [
        "X.head()"
      ],
      "execution_count": null,
      "outputs": [
        {
          "output_type": "execute_result",
          "data": {
            "text/html": [
              "<div>\n",
              "<style scoped>\n",
              "    .dataframe tbody tr th:only-of-type {\n",
              "        vertical-align: middle;\n",
              "    }\n",
              "\n",
              "    .dataframe tbody tr th {\n",
              "        vertical-align: top;\n",
              "    }\n",
              "\n",
              "    .dataframe thead th {\n",
              "        text-align: right;\n",
              "    }\n",
              "</style>\n",
              "<table border=\"1\" class=\"dataframe\">\n",
              "  <thead>\n",
              "    <tr style=\"text-align: right;\">\n",
              "      <th></th>\n",
              "      <th>site_code</th>\n",
              "      <th>year</th>\n",
              "      <th>month</th>\n",
              "      <th>region</th>\n",
              "      <th>district</th>\n",
              "      <th>product_code</th>\n",
              "      <th>average_monthly_consumption</th>\n",
              "      <th>site_type</th>\n",
              "      <th>distance</th>\n",
              "    </tr>\n",
              "  </thead>\n",
              "  <tbody>\n",
              "    <tr>\n",
              "      <th>0</th>\n",
              "      <td>119</td>\n",
              "      <td>1.535631</td>\n",
              "      <td>-1.507543</td>\n",
              "      <td>11</td>\n",
              "      <td>0</td>\n",
              "      <td>5</td>\n",
              "      <td>0.104350</td>\n",
              "      <td>1</td>\n",
              "      <td>-0.57689</td>\n",
              "    </tr>\n",
              "    <tr>\n",
              "      <th>1</th>\n",
              "      <td>119</td>\n",
              "      <td>1.535631</td>\n",
              "      <td>-1.507543</td>\n",
              "      <td>11</td>\n",
              "      <td>0</td>\n",
              "      <td>3</td>\n",
              "      <td>-0.387641</td>\n",
              "      <td>1</td>\n",
              "      <td>-0.57689</td>\n",
              "    </tr>\n",
              "    <tr>\n",
              "      <th>2</th>\n",
              "      <td>119</td>\n",
              "      <td>1.535631</td>\n",
              "      <td>-1.507543</td>\n",
              "      <td>11</td>\n",
              "      <td>0</td>\n",
              "      <td>2</td>\n",
              "      <td>-0.172395</td>\n",
              "      <td>1</td>\n",
              "      <td>-0.57689</td>\n",
              "    </tr>\n",
              "    <tr>\n",
              "      <th>3</th>\n",
              "      <td>119</td>\n",
              "      <td>1.535631</td>\n",
              "      <td>-1.507543</td>\n",
              "      <td>11</td>\n",
              "      <td>0</td>\n",
              "      <td>6</td>\n",
              "      <td>-0.449140</td>\n",
              "      <td>1</td>\n",
              "      <td>-0.57689</td>\n",
              "    </tr>\n",
              "    <tr>\n",
              "      <th>4</th>\n",
              "      <td>119</td>\n",
              "      <td>1.535631</td>\n",
              "      <td>-1.507543</td>\n",
              "      <td>11</td>\n",
              "      <td>0</td>\n",
              "      <td>7</td>\n",
              "      <td>-0.418390</td>\n",
              "      <td>1</td>\n",
              "      <td>-0.57689</td>\n",
              "    </tr>\n",
              "  </tbody>\n",
              "</table>\n",
              "</div>"
            ],
            "text/plain": [
              "   site_code      year     month  region  district  product_code  \\\n",
              "0        119  1.535631 -1.507543      11         0             5   \n",
              "1        119  1.535631 -1.507543      11         0             3   \n",
              "2        119  1.535631 -1.507543      11         0             2   \n",
              "3        119  1.535631 -1.507543      11         0             6   \n",
              "4        119  1.535631 -1.507543      11         0             7   \n",
              "\n",
              "   average_monthly_consumption  site_type  distance  \n",
              "0                     0.104350          1  -0.57689  \n",
              "1                    -0.387641          1  -0.57689  \n",
              "2                    -0.172395          1  -0.57689  \n",
              "3                    -0.449140          1  -0.57689  \n",
              "4                    -0.418390          1  -0.57689  "
            ]
          },
          "metadata": {
            "tags": []
          },
          "execution_count": 148
        }
      ]
    },
    {
      "cell_type": "code",
      "metadata": {
        "id": "Ko-lHwFxHrVb",
        "colab_type": "code",
        "colab": {
          "base_uri": "https://localhost:8080/",
          "height": 204
        },
        "outputId": "35446a5b-aaa1-476e-cb67-335857c8a7e3"
      },
      "source": [
        "test.head()"
      ],
      "execution_count": null,
      "outputs": [
        {
          "output_type": "execute_result",
          "data": {
            "text/html": [
              "<div>\n",
              "<style scoped>\n",
              "    .dataframe tbody tr th:only-of-type {\n",
              "        vertical-align: middle;\n",
              "    }\n",
              "\n",
              "    .dataframe tbody tr th {\n",
              "        vertical-align: top;\n",
              "    }\n",
              "\n",
              "    .dataframe thead th {\n",
              "        text-align: right;\n",
              "    }\n",
              "</style>\n",
              "<table border=\"1\" class=\"dataframe\">\n",
              "  <thead>\n",
              "    <tr style=\"text-align: right;\">\n",
              "      <th></th>\n",
              "      <th>site_code</th>\n",
              "      <th>year</th>\n",
              "      <th>month</th>\n",
              "      <th>region</th>\n",
              "      <th>district</th>\n",
              "      <th>product_code</th>\n",
              "      <th>average_monthly_consumption</th>\n",
              "      <th>site_type</th>\n",
              "      <th>distance</th>\n",
              "    </tr>\n",
              "  </thead>\n",
              "  <tbody>\n",
              "    <tr>\n",
              "      <th>35753</th>\n",
              "      <td>119</td>\n",
              "      <td>0.0</td>\n",
              "      <td>-1.220987</td>\n",
              "      <td>11</td>\n",
              "      <td>0</td>\n",
              "      <td>1</td>\n",
              "      <td>0.0</td>\n",
              "      <td>1</td>\n",
              "      <td>-0.527911</td>\n",
              "    </tr>\n",
              "    <tr>\n",
              "      <th>35754</th>\n",
              "      <td>119</td>\n",
              "      <td>0.0</td>\n",
              "      <td>-1.220987</td>\n",
              "      <td>11</td>\n",
              "      <td>0</td>\n",
              "      <td>5</td>\n",
              "      <td>0.0</td>\n",
              "      <td>1</td>\n",
              "      <td>-0.527911</td>\n",
              "    </tr>\n",
              "    <tr>\n",
              "      <th>35755</th>\n",
              "      <td>119</td>\n",
              "      <td>0.0</td>\n",
              "      <td>-1.220987</td>\n",
              "      <td>11</td>\n",
              "      <td>0</td>\n",
              "      <td>3</td>\n",
              "      <td>0.0</td>\n",
              "      <td>1</td>\n",
              "      <td>-0.527911</td>\n",
              "    </tr>\n",
              "    <tr>\n",
              "      <th>35756</th>\n",
              "      <td>119</td>\n",
              "      <td>0.0</td>\n",
              "      <td>-1.220987</td>\n",
              "      <td>11</td>\n",
              "      <td>0</td>\n",
              "      <td>2</td>\n",
              "      <td>0.0</td>\n",
              "      <td>1</td>\n",
              "      <td>-0.527911</td>\n",
              "    </tr>\n",
              "    <tr>\n",
              "      <th>35757</th>\n",
              "      <td>119</td>\n",
              "      <td>0.0</td>\n",
              "      <td>-1.220987</td>\n",
              "      <td>11</td>\n",
              "      <td>0</td>\n",
              "      <td>6</td>\n",
              "      <td>0.0</td>\n",
              "      <td>1</td>\n",
              "      <td>-0.527911</td>\n",
              "    </tr>\n",
              "  </tbody>\n",
              "</table>\n",
              "</div>"
            ],
            "text/plain": [
              "       site_code  year     month  region  district  product_code  \\\n",
              "35753        119   0.0 -1.220987      11         0             1   \n",
              "35754        119   0.0 -1.220987      11         0             5   \n",
              "35755        119   0.0 -1.220987      11         0             3   \n",
              "35756        119   0.0 -1.220987      11         0             2   \n",
              "35757        119   0.0 -1.220987      11         0             6   \n",
              "\n",
              "       average_monthly_consumption  site_type  distance  \n",
              "35753                          0.0          1 -0.527911  \n",
              "35754                          0.0          1 -0.527911  \n",
              "35755                          0.0          1 -0.527911  \n",
              "35756                          0.0          1 -0.527911  \n",
              "35757                          0.0          1 -0.527911  "
            ]
          },
          "metadata": {
            "tags": []
          },
          "execution_count": 158
        }
      ]
    },
    {
      "cell_type": "code",
      "metadata": {
        "id": "F2QZky1gyw5N",
        "colab_type": "code",
        "colab": {
          "base_uri": "https://localhost:8080/",
          "height": 34
        },
        "outputId": "a8aefd89-84ac-4ece-f834-56a44d961595"
      },
      "source": [
        "y.stock_distributed.isna().sum()"
      ],
      "execution_count": null,
      "outputs": [
        {
          "output_type": "execute_result",
          "data": {
            "text/plain": [
              "0"
            ]
          },
          "metadata": {
            "tags": []
          },
          "execution_count": 151
        }
      ]
    },
    {
      "cell_type": "code",
      "metadata": {
        "id": "7xHWMSKlEJgW",
        "colab_type": "code",
        "colab": {}
      },
      "source": [
        "y_train = y.stock_distributed.values"
      ],
      "execution_count": null,
      "outputs": []
    },
    {
      "cell_type": "code",
      "metadata": {
        "id": "_vNPLlVmVeft",
        "colab_type": "code",
        "colab": {}
      },
      "source": [
        "X_train = X.values\n",
        "X_test = test.values"
      ],
      "execution_count": null,
      "outputs": []
    },
    {
      "cell_type": "code",
      "metadata": {
        "id": "mI0BBewhyaY8",
        "colab_type": "code",
        "colab": {
          "base_uri": "https://localhost:8080/",
          "height": 34
        },
        "outputId": "4267c0ac-0a22-4522-85cc-d371572529dc"
      },
      "source": [
        "print(X_train.shape,X_test.shape)"
      ],
      "execution_count": null,
      "outputs": [
        {
          "output_type": "stream",
          "text": [
            "(35753, 8) (3089, 8)\n"
          ],
          "name": "stdout"
        }
      ]
    },
    {
      "cell_type": "code",
      "metadata": {
        "id": "Qepxl9OtUjTV",
        "colab_type": "code",
        "colab": {}
      },
      "source": [
        "X_data_train = X[['site_code'\t,'year'\t,'month'\t,'region'\t,'district'\t,'product_code'\t,'site_type'\t,'distance']]\n",
        "X_data_test = test[['site_code'\t,'year'\t,'month'\t,'region'\t,'district'\t,'product_code'\t,'site_type'\t,'distance']]"
      ],
      "execution_count": null,
      "outputs": []
    },
    {
      "cell_type": "code",
      "metadata": {
        "id": "59VwDsVD3TdH",
        "colab_type": "code",
        "colab": {}
      },
      "source": [
        "# Regression model\n",
        "# Model 1 -- stacking regressor\n",
        "\n",
        "seed = 1\n",
        "\n",
        "\n",
        "from mlxtend.regressor import StackingCVRegressor\n",
        "from sklearn.svm import SVR\n",
        "from lightgbm import LGBMRegressor\n",
        "from sklearn.linear_model import Lasso\n",
        "from sklearn.ensemble import RandomForestRegressor\n",
        "from sklearn.model_selection import cross_val_score\n",
        "from xgboost import XGBRegressor\n",
        "from sklearn.neural_network import MLPRegressor\n",
        "\n",
        "\n",
        "svr = SVR(kernel='linear')\n",
        "lasso = Lasso()\n",
        "rf = RandomForestRegressor(n_estimators=100, \n",
        "                           random_state=seed)\n",
        "\n",
        "xgb_regressor = XGBRegressor(n_estimators = 100, random_state= seed)\n",
        "\n",
        "lgbm_regressor = LGBMRegressor(n_leaves = 70, n_estimators=100, random_state=seed)\n",
        "\n",
        "stack = StackingCVRegressor(regressors=(lgbm_regressor, xgb_regressor, svr, lasso, rf),\n",
        "                            meta_regressor= lgbm_regressor,\n",
        "                            cv = 5,\n",
        "                            use_features_in_secondary=True)\n"
      ],
      "execution_count": null,
      "outputs": []
    },
    {
      "cell_type": "code",
      "metadata": {
        "id": "yMr4Amoqmj3l",
        "colab_type": "code",
        "colab": {}
      },
      "source": [
        "import keras\n",
        "from keras.layers import *\n",
        "from keras.optimizers import Adam\n",
        "from keras.models import Model\n",
        "from keras.initializers import glorot_normal\n",
        "from tensorflow.keras.callbacks import LearningRateScheduler, EarlyStopping\n",
        "from keras.regularizers import l2\n",
        "import tensorflow as tf\n",
        "import random"
      ],
      "execution_count": null,
      "outputs": []
    },
    {
      "cell_type": "code",
      "metadata": {
        "id": "ToxW6ZviIPQO",
        "colab_type": "code",
        "colab": {}
      },
      "source": [
        "#Model two -- Attention-based regressor\n",
        "\n",
        "def get_model():\n",
        "  tf.random.set_seed(seed)\n",
        "  np.random.seed(seed)\n",
        "  random.seed(seed)\n",
        "\n",
        "  input_tensor = Input(shape=(6,))\n",
        "\n",
        "  x = Dense(4, activation='relu')(input_tensor)\n",
        "  att_probas = Dense(4,activation='softmax' , name= \"attention_proba_1\")(x)\n",
        "  x = multiply([x, att_probas])\n",
        "\n",
        "  x = Dense(8, activation ='relu')(x)\n",
        "  att_probas = Dense(8,activation='softmax' , name= \"attention_proba_2\")(x)\n",
        "  x = multiply([x, att_probas])\n",
        "\n",
        "  x = Dense(16, activation ='relu')(x)\n",
        "  att_probas = Dense(16,activation='softmax' , name= \"attention_proba_3\")(x)\n",
        "  x = multiply([x, att_probas])\n",
        "\n",
        "  x = Dense(32, activation ='relu')(x)\n",
        "  att_probas = Dense(32,activation='softmax' , name= \"attention_proba_4\")(x)\n",
        "  x = multiply([x, att_probas])\n",
        "\n",
        "  x = Dense(64, activation ='relu')(x)\n",
        "  att_probas = Dense(64,activation='softmax' , name= \"attention_proba_5\")(x)\n",
        "  x = multiply([x, att_probas])\n",
        "\n",
        "  x = add([x, Dense(64, activation='relu')(x)])\n",
        "  x = add([x, Dense(64, activation='relu')(x)])\n",
        "\n",
        "  x = Dropout(0.5)(x)\n",
        "\n",
        "  out = Dense(1,kernel_initializer=glorot_normal(seed=seed),\n",
        "              bias_initializer=glorot_normal(seed=seed))(x)\n",
        "\n",
        "  model = Model(inputs=input_tensor, outputs =out)\n",
        "\n",
        "  model.compile(optimizer='rmsprop', loss=\"mse\",metrics=[tf.keras.metrics.RootMeanSquaredError(name ='rmse')])\n",
        "  return model"
      ],
      "execution_count": null,
      "outputs": []
    },
    {
      "cell_type": "code",
      "metadata": {
        "id": "BbIGnvDmQkAF",
        "colab_type": "code",
        "colab": {}
      },
      "source": [
        "#model 3\n",
        "rf = RandomForestRegressor(n_estimators=500, max_depth=7,\n",
        "                           random_state=seed)\n",
        "\n",
        "xgb_regressor = XGBRegressor(n_estimators = 500,subsample=0.8,max_depth=7, learning_rate=0.02, base_score = np.mean(y_train), random_state= seed)\n",
        "\n",
        "lgbm_regressor = LGBMRegressor(n_leaves = 80, n_estimators=500, max_depth=7,subsample_for_bin=300000,learning_rate=0.02, subsample=0.8, base_score=np.mean(y_train), random_state=seed)\n",
        "\n",
        "stack2 = StackingCVRegressor(regressors=(rf,xgb_regressor,lgbm_regressor),\n",
        "                            meta_regressor= xgb_regressor,\n",
        "                            cv = 5,\n",
        "                            use_features_in_secondary=True)"
      ],
      "execution_count": null,
      "outputs": []
    },
    {
      "cell_type": "code",
      "metadata": {
        "id": "lK7weKjGRwwY",
        "colab_type": "code",
        "colab": {}
      },
      "source": [
        "# model 4 --- nn\n",
        "def get_model2():\n",
        "  tf.random.set_seed(seed)\n",
        "  np.random.seed(seed)\n",
        "  random.seed(seed)\n",
        "\n",
        "  input_tensor = Input(shape=(6,))\n",
        "\n",
        "  x = Dense(4, kernel_initializer = 'uniform', activation='relu')(input_tensor)\n",
        "  att_probas = Dense(4,activation='softmax' , name= \"attention_proba_1\")(x)\n",
        "  x = multiply([x, att_probas])\n",
        "  x = Dropout(0.2)(x)\n",
        "\n",
        "  x = Dense(8, kernel_initializer = 'uniform' ,activation ='relu')(x)\n",
        "  att_probas = Dense(8,activation='softmax' , name= \"attention_proba_2\")(x)\n",
        "  x = multiply([x, att_probas])\n",
        "\n",
        "  x = Dense(16, kernel_initializer = 'uniform', activation ='relu')(x)\n",
        "  att_probas = Dense(16,activation='softmax' , name= \"attention_proba_3\")(x)\n",
        "  x = multiply([x, att_probas])\n",
        "  x = Dropout(0.2)(x)\n",
        "\n",
        "  x = Dense(32,kernel_initializer = 'uniform', activation ='relu')(x)\n",
        "  att_probas = Dense(32,activation='softmax' , name= \"attention_proba_4\")(x)\n",
        "  x = multiply([x, att_probas])\n",
        "\n",
        "  x = Dense(64,kernel_initializer = 'uniform', activation ='relu')(x)\n",
        "  att_probas = Dense(64,activation='softmax' , name= \"attention_proba_5\")(x)\n",
        "  x = multiply([x, att_probas])\n",
        "  x = Dropout(0.2)(x)\n",
        "\n",
        "  x = add([x, Dense(64, kernel_initializer = 'uniform',activation='relu')(x)])\n",
        "  x = add([x, Dense(64,kernel_initializer = 'uniform', activation='relu')(x)])\n",
        "\n",
        "  x = Dropout(0.2)(x)\n",
        "\n",
        "  out = Dense(1,kernel_initializer=glorot_normal(seed=seed),\n",
        "              bias_initializer=glorot_normal(seed=seed))(x)\n",
        "\n",
        "  model = Model(inputs=input_tensor, outputs =out)\n",
        "\n",
        "  model.compile(optimizer='sgd', loss=\"mse\",metrics=[tf.keras.metrics.RootMeanSquaredError(name ='rmse')])\n",
        "  return model"
      ],
      "execution_count": null,
      "outputs": []
    },
    {
      "cell_type": "code",
      "metadata": {
        "id": "WKaFNDh8ZA48",
        "colab_type": "code",
        "colab": {}
      },
      "source": [
        "#Model 5 -- Attention-based regressor with label encoded year features\n",
        "\n",
        "def get_model():\n",
        "  tf.random.set_seed(seed)\n",
        "  np.random.seed(seed)\n",
        "  random.seed(seed)\n",
        "\n",
        "  input_tensor = Input(shape=(6,))\n",
        "\n",
        "  x = Dense(4, activation='relu')(input_tensor)\n",
        "  att_probas = Dense(4,activation='softmax' , name= \"attention_proba_1\")(x)\n",
        "  x = multiply([x, att_probas])\n",
        "\n",
        "  x = Dense(8, activation ='relu')(x)\n",
        "  att_probas = Dense(8,activation='softmax' , name= \"attention_proba_2\")(x)\n",
        "  x = multiply([x, att_probas])\n",
        "\n",
        "  x = Dense(16, activation ='relu')(x)\n",
        "  att_probas = Dense(16,activation='softmax' , name= \"attention_proba_3\")(x)\n",
        "  x = multiply([x, att_probas])\n",
        "\n",
        "  x = Dense(32, activation ='relu')(x)\n",
        "  att_probas = Dense(32,activation='softmax' , name= \"attention_proba_4\")(x)\n",
        "  x = multiply([x, att_probas])\n",
        "\n",
        "  x = Dense(64, activation ='relu')(x)\n",
        "  att_probas = Dense(64,activation='softmax' , name= \"attention_proba_5\")(x)\n",
        "  x = multiply([x, att_probas])\n",
        "\n",
        "  x = add([x, Dense(64, activation='relu')(x)])\n",
        "  x = add([x, Dense(64, activation='relu')(x)])\n",
        "\n",
        "  x = Dropout(0.5)(x)\n",
        "\n",
        "  out = Dense(1,kernel_initializer=glorot_normal(seed=seed),\n",
        "              bias_initializer=glorot_normal(seed=seed))(x)\n",
        "\n",
        "  model = Model(inputs=input_tensor, outputs =out)\n",
        "\n",
        "  model.compile(optimizer='adam', loss=\"mse\",metrics=[tf.keras.metrics.RootMeanSquaredError(name ='rmse')])\n",
        "  return model"
      ],
      "execution_count": null,
      "outputs": []
    },
    {
      "cell_type": "code",
      "metadata": {
        "id": "X5VnqoKAiKE3",
        "colab_type": "code",
        "colab": {}
      },
      "source": [
        "# model 6\n",
        "\n",
        "svr = SVR(kernel='linear')\n",
        "lasso = Lasso()\n",
        "rf = RandomForestRegressor(n_estimators=100, \n",
        "                           random_state=seed)\n",
        "\n",
        "xgb_regressor = XGBRegressor(n_estimators = 100, random_state= seed)\n",
        "\n",
        "lgbm_regressor = LGBMRegressor(n_leaves = 70, n_estimators=100, random_state=seed)\n",
        "\n",
        "stack = StackingCVRegressor(regressors=(svr, lasso, rf,xgb_regressor,lgbm_regressor),\n",
        "                            meta_regressor= lgbm_regressor,\n",
        "                            cv = 5,\n",
        "                            use_features_in_secondary=True)"
      ],
      "execution_count": null,
      "outputs": []
    },
    {
      "cell_type": "code",
      "metadata": {
        "id": "bGnrtn5hvneg",
        "colab_type": "code",
        "colab": {}
      },
      "source": [
        "# model 7 \n",
        "# with raw year features\n",
        "\n",
        "def get_model():\n",
        "  tf.random.set_seed(seed)\n",
        "  np.random.seed(seed)\n",
        "  random.seed(seed)\n",
        "\n",
        "  input_tensor = Input(shape=(6,))\n",
        "\n",
        "  x = Dense(32, kernel_initializer='uniform', activation='relu')(input_tensor)\n",
        "  att_probas = Dense(32,activation='softmax' , name= \"attention_proba_1\")(x)\n",
        "  x = multiply([x, att_probas])\n",
        "\n",
        "  x = Dense(64, kernel_initializer='uniform', activation ='relu')(x)\n",
        "  att_probas = Dense(64,activation='softmax' , name= \"attention_proba_2\")(x)\n",
        "  x = multiply([x, att_probas])\n",
        "\n",
        "  x = concatenate([x, Dense(64 ,kernel_initializer='uniform',activation='relu')(input_tensor)])\n",
        "\n",
        "  x = add([x, Dense(128, activation='relu')(x)])\n",
        "  x = add([x, Dense(128, activation='relu')(x)])\n",
        "\n",
        "  x = Dropout(0.15)(x)\n",
        "\n",
        "  out = Dense(1,kernel_initializer=glorot_normal(seed=seed),\n",
        "              bias_initializer=glorot_normal(seed=seed))(x)\n",
        "\n",
        "  model = Model(inputs= input_tensor, outputs = out)\n",
        "\n",
        "  model.compile(optimizer='adam', loss=\"mse\",metrics=[tf.keras.metrics.RootMeanSquaredError(name ='rmse')])\n",
        "  return model\n"
      ],
      "execution_count": null,
      "outputs": []
    },
    {
      "cell_type": "code",
      "metadata": {
        "id": "RcOljBD5Wq6C",
        "colab_type": "code",
        "colab": {}
      },
      "source": [
        "# model 8\n",
        "# with raw year features\n",
        "# minmax scaling/standard scaling\n",
        "# with/no early stopping\n",
        "# additional dropouts\n",
        "# batch 1024\n",
        "\n",
        "\n",
        "# Note : Standard scaling performed better than minmax scaling\n",
        "\n",
        "import keras\n",
        "from keras.layers import *\n",
        "from keras.optimizers import Adam\n",
        "from keras.models import Model\n",
        "from keras.initializers import glorot_normal\n",
        "from tensorflow.keras.callbacks import LearningRateScheduler, EarlyStopping\n",
        "from keras.regularizers import l2\n",
        "import tensorflow as tf\n",
        "import random\n",
        "\n",
        "\n",
        "def get_model():\n",
        "  tf.random.set_seed(seed)\n",
        "  np.random.seed(seed)\n",
        "  random.seed(seed)\n",
        "\n",
        "  input_tensor = Input(shape=(6,))\n",
        "\n",
        "  x = Dense(32, kernel_initializer='uniform', activation='relu')(input_tensor)\n",
        "  att_probas = Dense(32,activation='softmax' , name= \"attention_proba_1\")(x)\n",
        "  x = multiply([x, att_probas])\n",
        "  x = Dropout(0.2)(x)\n",
        "\n",
        "  x = Dense(64, kernel_initializer='uniform', activation ='relu')(x)\n",
        "  att_probas = Dense(64,activation='softmax' , name= \"attention_proba_2\")(x)\n",
        "  x = multiply([x, att_probas])\n",
        "  x = Dropout(0.2)(x)\n",
        "\n",
        "  x = concatenate([x, Dense(64 ,kernel_initializer='uniform',activation='relu')(input_tensor)])\n",
        "\n",
        "  x = add([x, Dense(128, activation='relu')(x)])\n",
        "  x = add([x, Dense(128, activation='relu')(x)])\n",
        "\n",
        "  x = Dropout(0.15)(x)\n",
        "\n",
        "  out = Dense(1,kernel_initializer=glorot_normal(seed=seed),\n",
        "              bias_initializer=glorot_normal(seed=seed))(x)\n",
        "\n",
        "  model = Model(inputs= input_tensor, outputs = out)\n",
        "\n",
        "  model.compile(optimizer='adam', loss=\"mse\",metrics=[tf.keras.metrics.RootMeanSquaredError(name ='rmse')])\n",
        "  return model\n"
      ],
      "execution_count": null,
      "outputs": []
    },
    {
      "cell_type": "code",
      "metadata": {
        "id": "ljyqLKEgU6gp",
        "colab_type": "code",
        "colab": {
          "base_uri": "https://localhost:8080/",
          "height": 51
        },
        "outputId": "02440d1b-34ef-49d6-ec74-1254aa1d1766"
      },
      "source": [
        "%%time\n",
        "import lightgbm as lgb\n",
        "\n",
        "np.random.seed(seed)\n",
        "\n",
        "train_data = lgb.Dataset(X_train , label = y_train)"
      ],
      "execution_count": null,
      "outputs": [
        {
          "output_type": "stream",
          "text": [
            "CPU times: user 135 µs, sys: 27 µs, total: 162 µs\n",
            "Wall time: 168 µs\n"
          ],
          "name": "stdout"
        }
      ]
    },
    {
      "cell_type": "code",
      "metadata": {
        "id": "Ge8-THW_UBbq",
        "colab_type": "code",
        "colab": {}
      },
      "source": [
        "params = {\n",
        "        \"objective\" : \"tweedie\",\n",
        "        \"metric\" :\"rmse\",\n",
        "        \"force_row_wise\" : True,\n",
        "        \"learning_rate\" : 0.075,\n",
        "#         \"sub_feature\" : 0.8,\n",
        "        \"sub_row\" : 0.75,\n",
        "        \"bagging_freq\" : 1,\n",
        "        \"lambda_l2\" : 0.1,\n",
        "#         \"nthread\" : 4\n",
        "        \"metric\": [\"rmse\"],\n",
        "    'verbosity': 1,\n",
        "    'num_iterations' : 1200,\n",
        "    'num_leaves': 128,\n",
        "    \"min_data_in_leaf\": 100,\n",
        "}"
      ],
      "execution_count": null,
      "outputs": []
    },
    {
      "cell_type": "code",
      "metadata": {
        "id": "xReC2nWFawVg",
        "colab_type": "code",
        "colab": {
          "base_uri": "https://localhost:8080/",
          "height": 51
        },
        "outputId": "abf38c0f-1308-4d6e-b339-b0ccc0ca789b"
      },
      "source": [
        "m_lgb = lgb.train(params, train_data, verbose_eval=20) "
      ],
      "execution_count": null,
      "outputs": [
        {
          "output_type": "stream",
          "text": [
            "/usr/local/lib/python3.6/dist-packages/lightgbm/engine.py:118: UserWarning: Found `num_iterations` in params. Will use it instead of argument\n",
            "  warnings.warn(\"Found `{}` in params. Will use it instead of argument\".format(alias))\n"
          ],
          "name": "stderr"
        }
      ]
    },
    {
      "cell_type": "code",
      "metadata": {
        "id": "_MkQokAaAedI",
        "colab_type": "code",
        "colab": {}
      },
      "source": [
        "from keras import backend as K\n",
        "\n",
        "def attention_3d_block(inputs, name):\n",
        "  # inputs.shape = (batch_size, time_steps, input_dim)\n",
        "  TIME_STEPS = inputs.shape[1]\n",
        "  SINGLE_ATTENTION_VECTOR = False\n",
        "  \n",
        "  input_dim = inputs.shape[2]\n",
        "  a = Permute((2, 1))(inputs)\n",
        "  a = Dense(TIME_STEPS, activation='softmax')(a)\n",
        "  if SINGLE_ATTENTION_VECTOR:  \n",
        "    a = Lambda(lambda x: K.mean(x, axis=1))(a)\n",
        "    a = RepeatVector(input_dim)(a)\n",
        "  a_probs = Permute((2, 1), name=name)(a)\n",
        "  output_attention_mul = Multiply()([inputs, a_probs])\n",
        "  return output_attention_mul"
      ],
      "execution_count": null,
      "outputs": []
    },
    {
      "cell_type": "code",
      "metadata": {
        "id": "uX70zdFXAo-t",
        "colab_type": "code",
        "colab": {}
      },
      "source": [
        "# reshaping input\n",
        "x = X_train.reshape(X_train.shape[0], 1,X_train.shape[1]); xtest = X_test.reshape(X_test.shape[0],1,X_test.shape[1])"
      ],
      "execution_count": null,
      "outputs": []
    },
    {
      "cell_type": "code",
      "metadata": {
        "id": "C-pRXnXBAT0N",
        "colab_type": "code",
        "colab": {}
      },
      "source": [
        "#model10 1- 3,4,5\n",
        "#model 10 2 - 5,4,3 \n",
        "def get_model_cnn():\n",
        "  tf.random.set_seed(1)\n",
        "  np.random.seed(1)\n",
        "  random.seed(1)\n",
        "\n",
        "  input_tensor = Input(shape=(1,8))\n",
        "\n",
        "  x = Conv1D(64, 5,strides=2,padding='same',activation='relu')(input_tensor)\n",
        "  x = attention_3d_block(x, 'attention_vec_1')\n",
        "  x = Dropout(0.15)(x)\n",
        "\n",
        "  x = Conv1D(128, 4,strides=2,padding='same',activation='relu')(x)\n",
        "  x = attention_3d_block(x, 'attention_vec_2')\n",
        "  x = Dropout(0.15)(x)\n",
        "\n",
        "  x = Conv1D(256, 3,strides=2,padding='same',activation='relu')(x)\n",
        "  x = attention_3d_block(x, 'attention_vec_3')\n",
        "  x = Dropout(0.15)(x)\n",
        "\n",
        "  x_max = GlobalMaxPooling1D()(x)\n",
        "\n",
        "  x_avg = GlobalAveragePooling1D()(x)\n",
        "\n",
        "  x = concatenate([x_max, x_avg])\n",
        "\n",
        "  x = add([x, Dense(512, activation='relu')(x)])\n",
        "  x = add([x, Dense(512, activation='relu')(x)])\n",
        "  \n",
        "  x = Dropout(0.15)(x)\n",
        "\n",
        "  out = Dense(1,kernel_initializer=glorot_normal(seed=1),\n",
        "              bias_initializer=glorot_normal(seed=1))(x)\n",
        "\n",
        "  model = Model(inputs=input_tensor,outputs =out)\n",
        "\n",
        "  model.compile(optimizer='adam', loss=\"mse\",metrics=[tf.keras.metrics.RootMeanSquaredError(name ='rmse')])\n",
        "  return model\n"
      ],
      "execution_count": null,
      "outputs": []
    },
    {
      "cell_type": "code",
      "metadata": {
        "id": "RUlDqgbXFEkq",
        "colab_type": "code",
        "colab": {}
      },
      "source": [
        "# model 11\n",
        "\n",
        "import keras\n",
        "from keras.layers import *\n",
        "from keras.optimizers import Adam\n",
        "from keras.models import Model\n",
        "from keras.initializers import glorot_normal\n",
        "from tensorflow.keras.callbacks import LearningRateScheduler, EarlyStopping\n",
        "from keras.regularizers import l2\n",
        "import tensorflow as tf\n",
        "import random\n",
        "\n",
        "\n",
        "def get_model_11():\n",
        "  tf.random.set_seed(seed)\n",
        "  np.random.seed(seed)\n",
        "  random.seed(seed)\n",
        "\n",
        "  input_tensor = Input(shape=(X_data_train.shape[1],))\n",
        "  avg = Input(shape=(X_avg_train.shape[1],))\n",
        "\n",
        "  x = Dense(32, kernel_initializer='uniform', activation='relu')(input_tensor)\n",
        "  att_probas = Dense(32,activation='softmax' , name= \"attention_proba_1\")(x)\n",
        "  x = multiply([x, att_probas])\n",
        "  x = Dropout(0.2)(x)\n",
        "\n",
        "  x = Dense(64, kernel_initializer='uniform', activation ='relu')(x)\n",
        "  att_probas = Dense(64,activation='softmax' , name= \"attention_proba_2\")(x)\n",
        "  x = multiply([x, att_probas])\n",
        "  x = Dropout(0.2)(x)\n",
        "\n",
        "  x = Dense(128, kernel_initializer='uniform', activation ='relu')(x)\n",
        "  att_probas = Dense(128,activation='softmax' , name= \"attention_proba_3\")(x)\n",
        "  x = multiply([x, att_probas])\n",
        "  x = Dropout(0.2)(x)\n",
        "\n",
        "\n",
        "  x = concatenate([x, Dense(128,kernel_initializer='uniform',activation='relu')(avg)])\n",
        "\n",
        "  x = add([x, Dense(256, activation='relu')(x)])\n",
        "  x = add([x, Dense(256, activation='relu')(x)])\n",
        "\n",
        "  x = Dropout(0.15)(x)\n",
        "\n",
        "  out = Dense(1,kernel_initializer=glorot_normal(seed=seed),\n",
        "              bias_initializer=glorot_normal(seed=seed))(x)\n",
        "\n",
        "  model = Model(inputs= [input_tensor,avg], outputs = out)\n",
        "\n",
        "  model.compile(optimizer='adam', loss=\"mse\",metrics=[tf.keras.metrics.RootMeanSquaredError(name ='rmse')])\n",
        "  return model\n"
      ],
      "execution_count": null,
      "outputs": []
    },
    {
      "cell_type": "code",
      "metadata": {
        "id": "9ZDk7_fBhFG6",
        "colab_type": "code",
        "colab": {}
      },
      "source": [
        "!pip install catboost"
      ],
      "execution_count": null,
      "outputs": []
    },
    {
      "cell_type": "code",
      "metadata": {
        "id": "xojx7yiqJk16",
        "colab_type": "code",
        "colab": {}
      },
      "source": [
        "# neural network in stacking regressor\n",
        "\n",
        "seed = 1\n",
        "\n",
        "from catboost import CatBoostRegressor\n",
        "from mlxtend.regressor import StackingCVRegressor\n",
        "from sklearn.svm import SVR\n",
        "from lightgbm import LGBMRegressor\n",
        "from sklearn.linear_model import Lasso,Ridge\n",
        "from sklearn.ensemble import RandomForestRegressor\n",
        "from sklearn.model_selection import cross_val_score\n",
        "from xgboost import XGBRegressor\n",
        "from sklearn.neural_network import MLPRegressor\n",
        "\n",
        "\n",
        "model = CatBoostRegressor(random_seed=seed)\n",
        "\n",
        "svr = SVR(kernel='linear')\n",
        "lasso = Lasso(random_state=seed)\n",
        "ridge = Ridge(random_state = seed)\n",
        "rf = RandomForestRegressor(n_estimators=500, \n",
        "                           random_state=seed)\n",
        "\n",
        "xgb_regressor = XGBRegressor(n_estimators = 500, random_state= seed)\n",
        "\n",
        "lgbm_regressor = LGBMRegressor(n_leaves = 80, n_estimators= 500, random_state=seed)\n",
        "\n",
        "## hidden layer sizes -- 64,128,256,512,256,128,64\n",
        "\n",
        "mlp = MLPRegressor(\n",
        "    hidden_layer_sizes=(64,128,256,512,256,128,64),\n",
        "    activation='relu',\n",
        "    random_state = seed,\n",
        "    max_iter = 1000,\n",
        "    early_stopping = True,\n",
        "    validation_fraction = 0.2,\n",
        "    batch_size = 1024,\n",
        "    learning_rate = 'adaptive'\n",
        ")\n",
        "\n",
        "stack = StackingCVRegressor(regressors=(mlp, model, lgbm_regressor, xgb_regressor, lasso, svr,rf),\n",
        "                            meta_regressor= model,\n",
        "                            cv = 5,\n",
        "                            use_features_in_secondary=True)"
      ],
      "execution_count": 205,
      "outputs": []
    },
    {
      "cell_type": "markdown",
      "metadata": {
        "id": "HUQ7DmmBLHHM",
        "colab_type": "text"
      },
      "source": [
        "Training Phase"
      ]
    },
    {
      "cell_type": "code",
      "metadata": {
        "id": "PLhNJ5VjLLyo",
        "colab_type": "code",
        "colab": {}
      },
      "source": [
        "from sklearn.model_selection import StratifiedKFold\n",
        "\n",
        "\n",
        "es = EarlyStopping(monitor =\"val_loss\", mode =\"min\", verbose =1, patience = 50)\n",
        "\n",
        "kfold = StratifiedKFold(n_splits = 5,shuffle = True, random_state =seed)\n",
        "\n",
        "predictions = list()\n",
        "\n",
        "for fold, (train_idx,test_idx) in enumerate(kfold.split(X_data_train,y_train)):\n",
        "\n",
        "  model = get_model_11()\n",
        "\n",
        "  print('########### Fold {} ############'.format(fold+1))\n",
        "\n",
        "  print(model.summary())\n",
        "  \n",
        "  model.fit(\n",
        "      [X_data_train[train_idx],X_avg_train[train_idx]],\n",
        "      y_train[train_idx],\n",
        "      validation_data = ([X_data_train[test_idx],X_avg_train[test_idx]] ,y_train[test_idx]),\n",
        "      callbacks = [es],\n",
        "      epochs = 1000,\n",
        "      batch_size = 1024\n",
        "  )\n",
        "  preds = model.predict([X_data_test,X_avg_test], batch_size =1024, verbose = 1)\n",
        "  predictions.append(preds)"
      ],
      "execution_count": null,
      "outputs": []
    },
    {
      "cell_type": "code",
      "metadata": {
        "id": "6d7ExQQJUGTF",
        "colab_type": "code",
        "colab": {}
      },
      "source": [
        "preds = np.average(predictions, axis = 0)"
      ],
      "execution_count": null,
      "outputs": []
    },
    {
      "cell_type": "code",
      "metadata": {
        "id": "x004GFETLug7",
        "colab_type": "code",
        "colab": {}
      },
      "source": [
        "%%time\n",
        "preds = model.fit(X,y_train,cat_features=cat_features).predict(test)"
      ],
      "execution_count": null,
      "outputs": []
    },
    {
      "cell_type": "code",
      "metadata": {
        "id": "nD3yFYXpbe-J",
        "colab_type": "code",
        "colab": {
          "base_uri": "https://localhost:8080/"
        },
        "outputId": "b37f791a-0686-40c2-a5f0-3d639da48b3f"
      },
      "source": [
        "preds.shape"
      ],
      "execution_count": 210,
      "outputs": [
        {
          "output_type": "execute_result",
          "data": {
            "text/plain": [
              "(3089,)"
            ]
          },
          "metadata": {
            "tags": []
          },
          "execution_count": 210
        }
      ]
    },
    {
      "cell_type": "code",
      "metadata": {
        "id": "TTtBV3HLYipg",
        "colab_type": "code",
        "colab": {}
      },
      "source": [
        "preds = np.squeeze(preds)"
      ],
      "execution_count": null,
      "outputs": []
    },
    {
      "cell_type": "code",
      "metadata": {
        "id": "U2p3cR-RhFVq",
        "colab_type": "code",
        "colab": {}
      },
      "source": [
        "### to ensemble -- ensemble_3_nns\n",
        "sub1 = pd.read_csv('model_7_raw_year_features.csv'); sub2 = pd.read_csv('nn9_cnn.csv');\n",
        "sub3 = pd.read_csv('standard_scaling_with_additional_dropouts.csv')"
      ],
      "execution_count": null,
      "outputs": []
    },
    {
      "cell_type": "code",
      "metadata": {
        "id": "m9gBsKvahS1A",
        "colab_type": "code",
        "colab": {}
      },
      "source": [
        "sub1['prediction'] = 0.15*sub1['prediction'] + 0.25*sub2['prediction'] + 0.6*sub3['prediction']"
      ],
      "execution_count": null,
      "outputs": []
    },
    {
      "cell_type": "code",
      "metadata": {
        "id": "xj35eZwG3Tjj",
        "colab_type": "code",
        "colab": {}
      },
      "source": [
        "submission['prediction']=np.abs(preds)"
      ],
      "execution_count": 211,
      "outputs": []
    },
    {
      "cell_type": "code",
      "metadata": {
        "id": "gEaUkLkl3Ts3",
        "colab_type": "code",
        "colab": {}
      },
      "source": [
        "submission.to_csv('catboost.csv', index =False)\n",
        "#sub1.to_csv('ensemble_stack_nn3_stack3_with_encoded_year_features_correct.csv',index=False)"
      ],
      "execution_count": 212,
      "outputs": []
    },
    {
      "cell_type": "code",
      "metadata": {
        "id": "rZ34op_sOayg",
        "colab_type": "code",
        "colab": {}
      },
      "source": [
        "submission.head()"
      ],
      "execution_count": null,
      "outputs": []
    },
    {
      "cell_type": "code",
      "metadata": {
        "id": "Oc-_icW6Onu8",
        "colab_type": "code",
        "colab": {}
      },
      "source": [
        "from google.colab import files\n",
        "\n",
        "files.download('catboost.csv')"
      ],
      "execution_count": null,
      "outputs": []
    }
  ]
}